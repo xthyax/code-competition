{
 "cells": [
  {
   "attachments": {},
   "cell_type": "markdown",
   "metadata": {},
   "source": [
    "## Playground season 3, episode 07\n",
    "### Start: February 14, 2023\n",
    "### End: February 27, 2023"
   ]
  },
  {
   "cell_type": "code",
   "execution_count": 3,
   "metadata": {},
   "outputs": [],
   "source": [
    "import pandas as pd\n",
    "import numpy as np\n",
    "import os"
   ]
  },
  {
   "cell_type": "code",
   "execution_count": null,
   "metadata": {},
   "outputs": [],
   "source": [
    "if os.name == 'nt':\n",
    "    data_path = r\"D:\\Coding_pratice\\_Data\\kaggle_playground_series\\playground-series-s3e7\"\n",
    "else:\n",
    "    data_path = ''\n",
    "train_csv = os.path.join(data_path, 'train.csv')\n",
    "test_csv = os.path.join(data_path, 'test.csv')"
   ]
  }
 ],
 "metadata": {
  "kernelspec": {
   "display_name": "_work",
   "language": "python",
   "name": "python3"
  },
  "language_info": {
   "codemirror_mode": {
    "name": "ipython",
    "version": 3
   },
   "file_extension": ".py",
   "mimetype": "text/x-python",
   "name": "python",
   "nbconvert_exporter": "python",
   "pygments_lexer": "ipython3",
   "version": "3.8.13"
  },
  "orig_nbformat": 4,
  "vscode": {
   "interpreter": {
    "hash": "6c638eb89f014b66b0d27c9448b9f799964500fae236ec6ed42d746cec1b1ef2"
   }
  }
 },
 "nbformat": 4,
 "nbformat_minor": 2
}
