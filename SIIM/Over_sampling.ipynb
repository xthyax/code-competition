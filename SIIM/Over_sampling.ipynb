{
 "cells": [
  {
   "cell_type": "markdown",
   "metadata": {},
   "source": [
    "# Import Lib"
   ]
  },
  {
   "cell_type": "code",
   "execution_count": 1,
   "metadata": {},
   "outputs": [],
   "source": [
    "import cv2\n",
    "import os\n",
    "import sys\n",
    "sys.path.append(\"..\")\n",
    "import glob\n",
    "import numpy as np\n",
    "import matplotlib.pyplot as plt\n",
    "import random\n",
    "import json\n",
    "import pandas as pd\n",
    "from sklearn.utils.class_weight import compute_class_weight\n",
    "# from tqdm import tqdm\n",
    "from tqdm.notebook import tqdm\n",
    "from scripts.function_test import resize_image\n",
    "from scripts.augmentation_setup import custom_augment, complex_augmentation, test_augmentation, oversample_augmentation\n"
   ]
  },
  {
   "cell_type": "markdown",
   "metadata": {},
   "source": [
    "# Get path"
   ]
  },
  {
   "cell_type": "code",
   "execution_count": 2,
   "metadata": {},
   "outputs": [
    {
     "output_type": "execute_result",
     "data": {
      "text/plain": "         image_name  patient_id     sex  age_approx  \\\n0      ISIC_2637011  IP_7279968    male        45.0   \n1      ISIC_0015719  IP_3075186  female        45.0   \n2      ISIC_0052212  IP_2842074  female        50.0   \n3      ISIC_0068279  IP_6890425  female        45.0   \n4      ISIC_0074268  IP_8723313  female        55.0   \n...             ...         ...     ...         ...   \n33121  ISIC_9999134  IP_6526534    male        50.0   \n33122  ISIC_9999320  IP_3650745    male        65.0   \n33123  ISIC_9999515  IP_2026598    male        20.0   \n33124  ISIC_9999666  IP_7702038    male        50.0   \n33125  ISIC_9999806  IP_0046310    male        45.0   \n\n      anatom_site_general_challenge diagnosis benign_malignant  target  \n0                         head/neck   unknown           benign       0  \n1                   upper extremity   unknown           benign       0  \n2                   lower extremity     nevus           benign       0  \n3                         head/neck   unknown           benign       0  \n4                   upper extremity   unknown           benign       0  \n...                             ...       ...              ...     ...  \n33121                         torso   unknown           benign       0  \n33122                         torso   unknown           benign       0  \n33123               lower extremity   unknown           benign       0  \n33124               lower extremity   unknown           benign       0  \n33125                         torso     nevus           benign       0  \n\n[33126 rows x 8 columns]",
      "text/html": "<div>\n<style scoped>\n    .dataframe tbody tr th:only-of-type {\n        vertical-align: middle;\n    }\n\n    .dataframe tbody tr th {\n        vertical-align: top;\n    }\n\n    .dataframe thead th {\n        text-align: right;\n    }\n</style>\n<table border=\"1\" class=\"dataframe\">\n  <thead>\n    <tr style=\"text-align: right;\">\n      <th></th>\n      <th>image_name</th>\n      <th>patient_id</th>\n      <th>sex</th>\n      <th>age_approx</th>\n      <th>anatom_site_general_challenge</th>\n      <th>diagnosis</th>\n      <th>benign_malignant</th>\n      <th>target</th>\n    </tr>\n  </thead>\n  <tbody>\n    <tr>\n      <th>0</th>\n      <td>ISIC_2637011</td>\n      <td>IP_7279968</td>\n      <td>male</td>\n      <td>45.0</td>\n      <td>head/neck</td>\n      <td>unknown</td>\n      <td>benign</td>\n      <td>0</td>\n    </tr>\n    <tr>\n      <th>1</th>\n      <td>ISIC_0015719</td>\n      <td>IP_3075186</td>\n      <td>female</td>\n      <td>45.0</td>\n      <td>upper extremity</td>\n      <td>unknown</td>\n      <td>benign</td>\n      <td>0</td>\n    </tr>\n    <tr>\n      <th>2</th>\n      <td>ISIC_0052212</td>\n      <td>IP_2842074</td>\n      <td>female</td>\n      <td>50.0</td>\n      <td>lower extremity</td>\n      <td>nevus</td>\n      <td>benign</td>\n      <td>0</td>\n    </tr>\n    <tr>\n      <th>3</th>\n      <td>ISIC_0068279</td>\n      <td>IP_6890425</td>\n      <td>female</td>\n      <td>45.0</td>\n      <td>head/neck</td>\n      <td>unknown</td>\n      <td>benign</td>\n      <td>0</td>\n    </tr>\n    <tr>\n      <th>4</th>\n      <td>ISIC_0074268</td>\n      <td>IP_8723313</td>\n      <td>female</td>\n      <td>55.0</td>\n      <td>upper extremity</td>\n      <td>unknown</td>\n      <td>benign</td>\n      <td>0</td>\n    </tr>\n    <tr>\n      <th>...</th>\n      <td>...</td>\n      <td>...</td>\n      <td>...</td>\n      <td>...</td>\n      <td>...</td>\n      <td>...</td>\n      <td>...</td>\n      <td>...</td>\n    </tr>\n    <tr>\n      <th>33121</th>\n      <td>ISIC_9999134</td>\n      <td>IP_6526534</td>\n      <td>male</td>\n      <td>50.0</td>\n      <td>torso</td>\n      <td>unknown</td>\n      <td>benign</td>\n      <td>0</td>\n    </tr>\n    <tr>\n      <th>33122</th>\n      <td>ISIC_9999320</td>\n      <td>IP_3650745</td>\n      <td>male</td>\n      <td>65.0</td>\n      <td>torso</td>\n      <td>unknown</td>\n      <td>benign</td>\n      <td>0</td>\n    </tr>\n    <tr>\n      <th>33123</th>\n      <td>ISIC_9999515</td>\n      <td>IP_2026598</td>\n      <td>male</td>\n      <td>20.0</td>\n      <td>lower extremity</td>\n      <td>unknown</td>\n      <td>benign</td>\n      <td>0</td>\n    </tr>\n    <tr>\n      <th>33124</th>\n      <td>ISIC_9999666</td>\n      <td>IP_7702038</td>\n      <td>male</td>\n      <td>50.0</td>\n      <td>lower extremity</td>\n      <td>unknown</td>\n      <td>benign</td>\n      <td>0</td>\n    </tr>\n    <tr>\n      <th>33125</th>\n      <td>ISIC_9999806</td>\n      <td>IP_0046310</td>\n      <td>male</td>\n      <td>45.0</td>\n      <td>torso</td>\n      <td>nevus</td>\n      <td>benign</td>\n      <td>0</td>\n    </tr>\n  </tbody>\n</table>\n<p>33126 rows × 8 columns</p>\n</div>"
     },
     "metadata": {},
     "execution_count": 2
    }
   ],
   "source": [
    "CSV_PATH = \"D:\\\\Coding_practice\\\\_Data\\\\SIIM-ISIC_data\\\\train.csv\"\n",
    "\n",
    "data_frame = pd.read_csv(CSV_PATH)\n",
    "data_frame"
   ]
  },
  {
   "cell_type": "markdown",
   "metadata": {},
   "source": [
    "# Get all data from benign patients only"
   ]
  },
  {
   "cell_type": "code",
   "execution_count": 3,
   "metadata": {},
   "outputs": [
    {
     "output_type": "execute_result",
     "data": {
      "text/plain": "         image_name  patient_id     sex  age_approx  \\\n0      ISIC_2637011  IP_7279968    male        45.0   \n1      ISIC_0015719  IP_3075186  female        45.0   \n2      ISIC_0052212  IP_2842074  female        50.0   \n3      ISIC_0068279  IP_6890425  female        45.0   \n4      ISIC_0074268  IP_8723313  female        55.0   \n...             ...         ...     ...         ...   \n33121  ISIC_9999134  IP_6526534    male        50.0   \n33122  ISIC_9999320  IP_3650745    male        65.0   \n33123  ISIC_9999515  IP_2026598    male        20.0   \n33124  ISIC_9999666  IP_7702038    male        50.0   \n33125  ISIC_9999806  IP_0046310    male        45.0   \n\n      anatom_site_general_challenge diagnosis benign_malignant  target  \n0                         head/neck   unknown           benign       0  \n1                   upper extremity   unknown           benign       0  \n2                   lower extremity     nevus           benign       0  \n3                         head/neck   unknown           benign       0  \n4                   upper extremity   unknown           benign       0  \n...                             ...       ...              ...     ...  \n33121                         torso   unknown           benign       0  \n33122                         torso   unknown           benign       0  \n33123               lower extremity   unknown           benign       0  \n33124               lower extremity   unknown           benign       0  \n33125                         torso     nevus           benign       0  \n\n[32542 rows x 8 columns]",
      "text/html": "<div>\n<style scoped>\n    .dataframe tbody tr th:only-of-type {\n        vertical-align: middle;\n    }\n\n    .dataframe tbody tr th {\n        vertical-align: top;\n    }\n\n    .dataframe thead th {\n        text-align: right;\n    }\n</style>\n<table border=\"1\" class=\"dataframe\">\n  <thead>\n    <tr style=\"text-align: right;\">\n      <th></th>\n      <th>image_name</th>\n      <th>patient_id</th>\n      <th>sex</th>\n      <th>age_approx</th>\n      <th>anatom_site_general_challenge</th>\n      <th>diagnosis</th>\n      <th>benign_malignant</th>\n      <th>target</th>\n    </tr>\n  </thead>\n  <tbody>\n    <tr>\n      <th>0</th>\n      <td>ISIC_2637011</td>\n      <td>IP_7279968</td>\n      <td>male</td>\n      <td>45.0</td>\n      <td>head/neck</td>\n      <td>unknown</td>\n      <td>benign</td>\n      <td>0</td>\n    </tr>\n    <tr>\n      <th>1</th>\n      <td>ISIC_0015719</td>\n      <td>IP_3075186</td>\n      <td>female</td>\n      <td>45.0</td>\n      <td>upper extremity</td>\n      <td>unknown</td>\n      <td>benign</td>\n      <td>0</td>\n    </tr>\n    <tr>\n      <th>2</th>\n      <td>ISIC_0052212</td>\n      <td>IP_2842074</td>\n      <td>female</td>\n      <td>50.0</td>\n      <td>lower extremity</td>\n      <td>nevus</td>\n      <td>benign</td>\n      <td>0</td>\n    </tr>\n    <tr>\n      <th>3</th>\n      <td>ISIC_0068279</td>\n      <td>IP_6890425</td>\n      <td>female</td>\n      <td>45.0</td>\n      <td>head/neck</td>\n      <td>unknown</td>\n      <td>benign</td>\n      <td>0</td>\n    </tr>\n    <tr>\n      <th>4</th>\n      <td>ISIC_0074268</td>\n      <td>IP_8723313</td>\n      <td>female</td>\n      <td>55.0</td>\n      <td>upper extremity</td>\n      <td>unknown</td>\n      <td>benign</td>\n      <td>0</td>\n    </tr>\n    <tr>\n      <th>...</th>\n      <td>...</td>\n      <td>...</td>\n      <td>...</td>\n      <td>...</td>\n      <td>...</td>\n      <td>...</td>\n      <td>...</td>\n      <td>...</td>\n    </tr>\n    <tr>\n      <th>33121</th>\n      <td>ISIC_9999134</td>\n      <td>IP_6526534</td>\n      <td>male</td>\n      <td>50.0</td>\n      <td>torso</td>\n      <td>unknown</td>\n      <td>benign</td>\n      <td>0</td>\n    </tr>\n    <tr>\n      <th>33122</th>\n      <td>ISIC_9999320</td>\n      <td>IP_3650745</td>\n      <td>male</td>\n      <td>65.0</td>\n      <td>torso</td>\n      <td>unknown</td>\n      <td>benign</td>\n      <td>0</td>\n    </tr>\n    <tr>\n      <th>33123</th>\n      <td>ISIC_9999515</td>\n      <td>IP_2026598</td>\n      <td>male</td>\n      <td>20.0</td>\n      <td>lower extremity</td>\n      <td>unknown</td>\n      <td>benign</td>\n      <td>0</td>\n    </tr>\n    <tr>\n      <th>33124</th>\n      <td>ISIC_9999666</td>\n      <td>IP_7702038</td>\n      <td>male</td>\n      <td>50.0</td>\n      <td>lower extremity</td>\n      <td>unknown</td>\n      <td>benign</td>\n      <td>0</td>\n    </tr>\n    <tr>\n      <th>33125</th>\n      <td>ISIC_9999806</td>\n      <td>IP_0046310</td>\n      <td>male</td>\n      <td>45.0</td>\n      <td>torso</td>\n      <td>nevus</td>\n      <td>benign</td>\n      <td>0</td>\n    </tr>\n  </tbody>\n</table>\n<p>32542 rows × 8 columns</p>\n</div>"
     },
     "metadata": {},
     "execution_count": 3
    }
   ],
   "source": [
    "data_0 = data_frame.loc[np.where(data_frame.loc[:,'target']==0)]\n",
    "data_0"
   ]
  },
  {
   "cell_type": "markdown",
   "metadata": {},
   "source": [
    "# Get all data from malignant patients only"
   ]
  },
  {
   "cell_type": "code",
   "execution_count": 4,
   "metadata": {},
   "outputs": [
    {
     "output_type": "execute_result",
     "data": {
      "text/plain": "         image_name  patient_id     sex  age_approx  \\\n91     ISIC_0149568  IP_0962375  female        55.0   \n235    ISIC_0188432  IP_0135517  female        50.0   \n314    ISIC_0207268  IP_7735373    male        55.0   \n399    ISIC_0232101  IP_8349964    male        65.0   \n459    ISIC_0247330  IP_3232631  female        65.0   \n...             ...         ...     ...         ...   \n32969  ISIC_9955163  IP_7507212    male        55.0   \n33000  ISIC_9963177  IP_1165806    male        70.0   \n33014  ISIC_9967383  IP_7887363    male        60.0   \n33050  ISIC_9978107  IP_2860540    male        65.0   \n33117  ISIC_9998682  IP_2516168    male        60.0   \n\n      anatom_site_general_challenge diagnosis benign_malignant  target  \n91                  upper extremity  melanoma        malignant       1  \n235                 upper extremity  melanoma        malignant       1  \n314                           torso  melanoma        malignant       1  \n399                           torso  melanoma        malignant       1  \n459                 lower extremity  melanoma        malignant       1  \n...                             ...       ...              ...     ...  \n32969               upper extremity  melanoma        malignant       1  \n33000                         torso  melanoma        malignant       1  \n33014               upper extremity  melanoma        malignant       1  \n33050               lower extremity  melanoma        malignant       1  \n33117                     head/neck  melanoma        malignant       1  \n\n[584 rows x 8 columns]",
      "text/html": "<div>\n<style scoped>\n    .dataframe tbody tr th:only-of-type {\n        vertical-align: middle;\n    }\n\n    .dataframe tbody tr th {\n        vertical-align: top;\n    }\n\n    .dataframe thead th {\n        text-align: right;\n    }\n</style>\n<table border=\"1\" class=\"dataframe\">\n  <thead>\n    <tr style=\"text-align: right;\">\n      <th></th>\n      <th>image_name</th>\n      <th>patient_id</th>\n      <th>sex</th>\n      <th>age_approx</th>\n      <th>anatom_site_general_challenge</th>\n      <th>diagnosis</th>\n      <th>benign_malignant</th>\n      <th>target</th>\n    </tr>\n  </thead>\n  <tbody>\n    <tr>\n      <th>91</th>\n      <td>ISIC_0149568</td>\n      <td>IP_0962375</td>\n      <td>female</td>\n      <td>55.0</td>\n      <td>upper extremity</td>\n      <td>melanoma</td>\n      <td>malignant</td>\n      <td>1</td>\n    </tr>\n    <tr>\n      <th>235</th>\n      <td>ISIC_0188432</td>\n      <td>IP_0135517</td>\n      <td>female</td>\n      <td>50.0</td>\n      <td>upper extremity</td>\n      <td>melanoma</td>\n      <td>malignant</td>\n      <td>1</td>\n    </tr>\n    <tr>\n      <th>314</th>\n      <td>ISIC_0207268</td>\n      <td>IP_7735373</td>\n      <td>male</td>\n      <td>55.0</td>\n      <td>torso</td>\n      <td>melanoma</td>\n      <td>malignant</td>\n      <td>1</td>\n    </tr>\n    <tr>\n      <th>399</th>\n      <td>ISIC_0232101</td>\n      <td>IP_8349964</td>\n      <td>male</td>\n      <td>65.0</td>\n      <td>torso</td>\n      <td>melanoma</td>\n      <td>malignant</td>\n      <td>1</td>\n    </tr>\n    <tr>\n      <th>459</th>\n      <td>ISIC_0247330</td>\n      <td>IP_3232631</td>\n      <td>female</td>\n      <td>65.0</td>\n      <td>lower extremity</td>\n      <td>melanoma</td>\n      <td>malignant</td>\n      <td>1</td>\n    </tr>\n    <tr>\n      <th>...</th>\n      <td>...</td>\n      <td>...</td>\n      <td>...</td>\n      <td>...</td>\n      <td>...</td>\n      <td>...</td>\n      <td>...</td>\n      <td>...</td>\n    </tr>\n    <tr>\n      <th>32969</th>\n      <td>ISIC_9955163</td>\n      <td>IP_7507212</td>\n      <td>male</td>\n      <td>55.0</td>\n      <td>upper extremity</td>\n      <td>melanoma</td>\n      <td>malignant</td>\n      <td>1</td>\n    </tr>\n    <tr>\n      <th>33000</th>\n      <td>ISIC_9963177</td>\n      <td>IP_1165806</td>\n      <td>male</td>\n      <td>70.0</td>\n      <td>torso</td>\n      <td>melanoma</td>\n      <td>malignant</td>\n      <td>1</td>\n    </tr>\n    <tr>\n      <th>33014</th>\n      <td>ISIC_9967383</td>\n      <td>IP_7887363</td>\n      <td>male</td>\n      <td>60.0</td>\n      <td>upper extremity</td>\n      <td>melanoma</td>\n      <td>malignant</td>\n      <td>1</td>\n    </tr>\n    <tr>\n      <th>33050</th>\n      <td>ISIC_9978107</td>\n      <td>IP_2860540</td>\n      <td>male</td>\n      <td>65.0</td>\n      <td>lower extremity</td>\n      <td>melanoma</td>\n      <td>malignant</td>\n      <td>1</td>\n    </tr>\n    <tr>\n      <th>33117</th>\n      <td>ISIC_9998682</td>\n      <td>IP_2516168</td>\n      <td>male</td>\n      <td>60.0</td>\n      <td>head/neck</td>\n      <td>melanoma</td>\n      <td>malignant</td>\n      <td>1</td>\n    </tr>\n  </tbody>\n</table>\n<p>584 rows × 8 columns</p>\n</div>"
     },
     "metadata": {},
     "execution_count": 4
    }
   ],
   "source": [
    "data_1 = data_frame.loc[np.where(data_frame.loc[:,'target']==1)]\n",
    "data_1"
   ]
  },
  {
   "cell_type": "markdown",
   "metadata": {},
   "source": [
    "# Get multiply constant"
   ]
  },
  {
   "cell_type": "code",
   "execution_count": 5,
   "metadata": {},
   "outputs": [
    {
     "output_type": "execute_result",
     "data": {
      "text/plain": "55.72260273972602"
     },
     "metadata": {},
     "execution_count": 5
    }
   ],
   "source": [
    "y = data_frame.loc[:,'target'].tolist()\n",
    "weight = compute_class_weight('balanced', np.unique(y), y)\n",
    "multiply_value = max(weight) / min(weight)\n",
    "multiply_value"
   ]
  },
  {
   "cell_type": "markdown",
   "metadata": {},
   "source": [
    "# Get image name from malignant patients \n",
    "### which is the class we need to over-sampling"
   ]
  },
  {
   "cell_type": "code",
   "execution_count": 6,
   "metadata": {},
   "outputs": [
    {
     "output_type": "stream",
     "name": "stdout",
     "text": "584\n"
    }
   ],
   "source": [
    "IMG_PATH = \"D:\\\\Coding_practice\\\\_Data\\\\SIIM-ISIC_data\\\\train\"\n",
    "\n",
    "imgs_list = []\n",
    "for image in data_1.loc[:,'image_name']:\n",
    "    imgs_list.append(image)\n",
    "\n",
    "print(len(imgs_list))"
   ]
  },
  {
   "cell_type": "code",
   "execution_count": 8,
   "metadata": {},
   "outputs": [
    {
     "output_type": "execute_result",
     "data": {
      "text/plain": "32704"
     },
     "metadata": {},
     "execution_count": 8
    }
   ],
   "source": [
    "round(multiply_value) * len(imgs_list)"
   ]
  },
  {
   "cell_type": "markdown",
   "metadata": {},
   "source": [
    "### Testing with getting image information"
   ]
  },
  {
   "cell_type": "code",
   "execution_count": 9,
   "metadata": {},
   "outputs": [
    {
     "output_type": "execute_result",
     "data": {
      "text/plain": "         image_name  patient_id   sex  age_approx  \\\n26567  ISIC_8052769  IP_6630831  male        50.0   \n\n      anatom_site_general_challenge diagnosis benign_malignant  target  \n26567               upper extremity  melanoma        malignant       1  ",
      "text/html": "<div>\n<style scoped>\n    .dataframe tbody tr th:only-of-type {\n        vertical-align: middle;\n    }\n\n    .dataframe tbody tr th {\n        vertical-align: top;\n    }\n\n    .dataframe thead th {\n        text-align: right;\n    }\n</style>\n<table border=\"1\" class=\"dataframe\">\n  <thead>\n    <tr style=\"text-align: right;\">\n      <th></th>\n      <th>image_name</th>\n      <th>patient_id</th>\n      <th>sex</th>\n      <th>age_approx</th>\n      <th>anatom_site_general_challenge</th>\n      <th>diagnosis</th>\n      <th>benign_malignant</th>\n      <th>target</th>\n    </tr>\n  </thead>\n  <tbody>\n    <tr>\n      <th>26567</th>\n      <td>ISIC_8052769</td>\n      <td>IP_6630831</td>\n      <td>male</td>\n      <td>50.0</td>\n      <td>upper extremity</td>\n      <td>melanoma</td>\n      <td>malignant</td>\n      <td>1</td>\n    </tr>\n  </tbody>\n</table>\n</div>"
     },
     "metadata": {},
     "execution_count": 9
    },
    {
     "output_type": "display_data",
     "data": {
      "text/plain": "<Figure size 1440x1440 with 0 Axes>"
     },
     "metadata": {}
    }
   ],
   "source": [
    "columns = 2\n",
    "rows = 5\n",
    "fig = plt.figure(figsize=(20,20))\n",
    "image_choosen = os.path.join(IMG_PATH, random.choice(imgs_list) +\".jpg\")\n",
    "img = cv2.imread(image_choosen)\n",
    "img, _, _, _, _ = resize_image(img,min_dim=256, max_dim=512)\n",
    "# fig.add_subplot(rows, columns, 1)\n",
    "# plt.imshow(img)\n",
    "# for i in range(2, columns * rows + 1):\n",
    "    \n",
    "#     # print(img.shape)\n",
    "#     aug_img = oversample_augmentation(image=img)\n",
    "#     fig.add_subplot(rows, columns, i)\n",
    "#     plt.imshow(aug_img)\n",
    "# plt.show()\n",
    "over_sample = data_1.loc[np.where(data_frame.loc[:,'image_name']==random.choice(imgs_list))]\n",
    "over_sample"
   ]
  },
  {
   "cell_type": "code",
   "execution_count": 7,
   "metadata": {},
   "outputs": [
    {
     "output_type": "execute_result",
     "data": {
      "text/plain": "         image_name  patient_id     sex  age_approx  \\\n0      ISIC_2637011  IP_7279968    male        45.0   \n1      ISIC_0015719  IP_3075186  female        45.0   \n2      ISIC_0052212  IP_2842074  female        50.0   \n3      ISIC_0068279  IP_6890425  female        45.0   \n4      ISIC_0074268  IP_8723313  female        55.0   \n...             ...         ...     ...         ...   \n33121  ISIC_9999134  IP_6526534    male        50.0   \n33122  ISIC_9999320  IP_3650745    male        65.0   \n33123  ISIC_9999515  IP_2026598    male        20.0   \n33124  ISIC_9999666  IP_7702038    male        50.0   \n33125  ISIC_9999806  IP_0046310    male        45.0   \n\n      anatom_site_general_challenge diagnosis benign_malignant  target  \n0                         head/neck   unknown           benign       0  \n1                   upper extremity   unknown           benign       0  \n2                   lower extremity     nevus           benign       0  \n3                         head/neck   unknown           benign       0  \n4                   upper extremity   unknown           benign       0  \n...                             ...       ...              ...     ...  \n33121                         torso   unknown           benign       0  \n33122                         torso   unknown           benign       0  \n33123               lower extremity   unknown           benign       0  \n33124               lower extremity   unknown           benign       0  \n33125                         torso     nevus           benign       0  \n\n[33126 rows x 8 columns]",
      "text/html": "<div>\n<style scoped>\n    .dataframe tbody tr th:only-of-type {\n        vertical-align: middle;\n    }\n\n    .dataframe tbody tr th {\n        vertical-align: top;\n    }\n\n    .dataframe thead th {\n        text-align: right;\n    }\n</style>\n<table border=\"1\" class=\"dataframe\">\n  <thead>\n    <tr style=\"text-align: right;\">\n      <th></th>\n      <th>image_name</th>\n      <th>patient_id</th>\n      <th>sex</th>\n      <th>age_approx</th>\n      <th>anatom_site_general_challenge</th>\n      <th>diagnosis</th>\n      <th>benign_malignant</th>\n      <th>target</th>\n    </tr>\n  </thead>\n  <tbody>\n    <tr>\n      <th>0</th>\n      <td>ISIC_2637011</td>\n      <td>IP_7279968</td>\n      <td>male</td>\n      <td>45.0</td>\n      <td>head/neck</td>\n      <td>unknown</td>\n      <td>benign</td>\n      <td>0</td>\n    </tr>\n    <tr>\n      <th>1</th>\n      <td>ISIC_0015719</td>\n      <td>IP_3075186</td>\n      <td>female</td>\n      <td>45.0</td>\n      <td>upper extremity</td>\n      <td>unknown</td>\n      <td>benign</td>\n      <td>0</td>\n    </tr>\n    <tr>\n      <th>2</th>\n      <td>ISIC_0052212</td>\n      <td>IP_2842074</td>\n      <td>female</td>\n      <td>50.0</td>\n      <td>lower extremity</td>\n      <td>nevus</td>\n      <td>benign</td>\n      <td>0</td>\n    </tr>\n    <tr>\n      <th>3</th>\n      <td>ISIC_0068279</td>\n      <td>IP_6890425</td>\n      <td>female</td>\n      <td>45.0</td>\n      <td>head/neck</td>\n      <td>unknown</td>\n      <td>benign</td>\n      <td>0</td>\n    </tr>\n    <tr>\n      <th>4</th>\n      <td>ISIC_0074268</td>\n      <td>IP_8723313</td>\n      <td>female</td>\n      <td>55.0</td>\n      <td>upper extremity</td>\n      <td>unknown</td>\n      <td>benign</td>\n      <td>0</td>\n    </tr>\n    <tr>\n      <th>...</th>\n      <td>...</td>\n      <td>...</td>\n      <td>...</td>\n      <td>...</td>\n      <td>...</td>\n      <td>...</td>\n      <td>...</td>\n      <td>...</td>\n    </tr>\n    <tr>\n      <th>33121</th>\n      <td>ISIC_9999134</td>\n      <td>IP_6526534</td>\n      <td>male</td>\n      <td>50.0</td>\n      <td>torso</td>\n      <td>unknown</td>\n      <td>benign</td>\n      <td>0</td>\n    </tr>\n    <tr>\n      <th>33122</th>\n      <td>ISIC_9999320</td>\n      <td>IP_3650745</td>\n      <td>male</td>\n      <td>65.0</td>\n      <td>torso</td>\n      <td>unknown</td>\n      <td>benign</td>\n      <td>0</td>\n    </tr>\n    <tr>\n      <th>33123</th>\n      <td>ISIC_9999515</td>\n      <td>IP_2026598</td>\n      <td>male</td>\n      <td>20.0</td>\n      <td>lower extremity</td>\n      <td>unknown</td>\n      <td>benign</td>\n      <td>0</td>\n    </tr>\n    <tr>\n      <th>33124</th>\n      <td>ISIC_9999666</td>\n      <td>IP_7702038</td>\n      <td>male</td>\n      <td>50.0</td>\n      <td>lower extremity</td>\n      <td>unknown</td>\n      <td>benign</td>\n      <td>0</td>\n    </tr>\n    <tr>\n      <th>33125</th>\n      <td>ISIC_9999806</td>\n      <td>IP_0046310</td>\n      <td>male</td>\n      <td>45.0</td>\n      <td>torso</td>\n      <td>nevus</td>\n      <td>benign</td>\n      <td>0</td>\n    </tr>\n  </tbody>\n</table>\n<p>33126 rows × 8 columns</p>\n</div>"
     },
     "metadata": {},
     "execution_count": 7
    }
   ],
   "source": [
    "data_temp = data_frame\n",
    "data_temp"
   ]
  },
  {
   "cell_type": "code",
   "execution_count": 8,
   "metadata": {},
   "outputs": [
    {
     "output_type": "display_data",
     "data": {
      "text/plain": "HBox(children=(IntProgress(value=0, max=584), HTML(value='')))",
      "application/vnd.jupyter.widget-view+json": {
       "version_major": 2,
       "version_minor": 0,
       "model_id": "e363b2937379465c9aacee85b88e621c"
      }
     },
     "metadata": {}
    },
    {
     "output_type": "stream",
     "name": "stdout",
     "text": "\n"
    }
   ],
   "source": [
    "EXPORT_PATH = \"D:\\\\Coding_practice\\\\_Data\\\\SIIM-ISIC_data\\\\malignant_oversampling\"\n",
    "os.makedirs(EXPORT_PATH, exist_ok=True)\n",
    "progress_bar = tqdm(imgs_list)\n",
    "for iter ,image in enumerate(progress_bar):\n",
    "    for i in range(round(multiply_value)-1):\n",
    "        oversample_data = data_1.loc[np.where(data_frame.loc[:,'image_name']==image)]\n",
    "\n",
    "        img_path =  os.path.join(IMG_PATH, image +\".jpg\")\n",
    "        img = cv2.imread(img_path)\n",
    "        img, _, _, _, _ = resize_image(img,min_dim=256, max_dim=512)\n",
    "        oversample_img = oversample_augmentation(image=img)\n",
    "        cv2.imwrite(os.path.join(EXPORT_PATH, image + f\"_{i}.jpg\"), oversample_img)\n",
    "        \n",
    "        oversample_data['image_name'] = oversample_data['image_name'].tolist()[0] + f\"_{i}\"\n",
    "        data_temp = data_temp.append(oversample_data, ignore_index=True)\n",
    "        \n",
    "    progress_bar.set_description(f\"Samples : {iter + 1}\")\n",
    "    progress_bar.update()\n",
    "# over_sample"
   ]
  },
  {
   "cell_type": "code",
   "execution_count": 77,
   "metadata": {},
   "outputs": [
    {
     "output_type": "execute_result",
     "data": {
      "text/plain": "['ISIC_0149568_2']"
     },
     "metadata": {},
     "execution_count": 77
    }
   ],
   "source": [
    "oversample_data = data_1.loc[np.where(data_frame.loc[:,'image_name']==image)]\n",
    "\n",
    "oversample_data['image_name'].tolist()\n",
    "oversample_data['image_name'] = oversample_data['image_name'].tolist()[0] +\"_2\"\n",
    "oversample_data['image_name'].tolist()"
   ]
  },
  {
   "cell_type": "code",
   "execution_count": 11,
   "metadata": {},
   "outputs": [],
   "source": [
    "CSV_PATH_Oversampling = \"D:\\\\Coding_practice\\\\_Data\\\\SIIM-ISIC_data\\\\train_oversampling.csv\"\n",
    "data_temp.to_csv(CSV_PATH_Oversampling, index=False)\n"
   ]
  }
 ],
 "metadata": {
  "language_info": {
   "codemirror_mode": {
    "name": "ipython",
    "version": 3
   },
   "file_extension": ".py",
   "mimetype": "text/x-python",
   "name": "python",
   "nbconvert_exporter": "python",
   "pygments_lexer": "ipython3",
   "version": 3
  },
  "orig_nbformat": 2,
  "kernelspec": {
   "name": "python_defaultSpec_1595388019402",
   "display_name": "Python 3.7.0 64-bit"
  }
 },
 "nbformat": 4,
 "nbformat_minor": 2
}