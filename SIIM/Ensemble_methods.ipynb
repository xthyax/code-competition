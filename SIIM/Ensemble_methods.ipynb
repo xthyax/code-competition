{
 "cells": [
  {
   "cell_type": "code",
   "execution_count": 59,
   "metadata": {},
   "outputs": [],
   "source": [
    "import pandas as pd\n",
    "import numpy as np\n"
   ]
  },
  {
   "cell_type": "code",
   "execution_count": 82,
   "metadata": {},
   "outputs": [],
   "source": [
    "TRAIN_CSV_PATH = \"D:\\\\Coding_practice\\\\_Data\\\\SIIM-ISIC_data\\\\train.csv\"\n",
    "TEST_CSV_PATH = \"D:\\\\Coding_practice\\\\_Data\\\\SIIM-ISIC_data\\\\test.csv\"\n",
    "TRAIN_ANALYSED_PATH = \"D:\\\\Coding_practice\\\\_Data\\\\SIIM-ISIC_data\\\\train_analysed.csv\"\n",
    "train_data = pd.read_csv(TRAIN_CSV_PATH)\n",
    "test_data = pd.read_csv(TEST_CSV_PATH)\n",
    "train_analysed = pd.read_csv(TRAIN_ANALYSED_PATH)"
   ]
  },
  {
   "cell_type": "code",
   "execution_count": 60,
   "metadata": {},
   "outputs": [],
   "source": [
    "def evaluate_mean_n_std(listClassesvalues):\n",
    "    valueList = []\n",
    "    [valueList.extend(data_per_class) for data_per_class in listClassesvalues]\n",
    "    print(f\"[DEBUG] {len(valueList)}\")\n",
    "    mean = np.mean(np.array(valueList))\n",
    "    std = np.std(np.array(valueList))\n",
    "    return mean, std\n",
    "def get_standard_score(listClassesvalues, mean, std):\n",
    "    dataReturn = []\n",
    "    [dataReturn.append(((np.array(data_per_class) - mean) / std)) for data_per_class in listClassesvalues]\n",
    "    return dataReturn"
   ]
  },
  {
   "cell_type": "code",
   "execution_count": 83,
   "metadata": {},
   "outputs": [
    {
     "output_type": "execute_result",
     "data": {
      "text/plain": "         image_name  patient_id     sex  age_approx  \\\n0      ISIC_2637011  IP_7279968    male        45.0   \n1      ISIC_0015719  IP_3075186  female        45.0   \n2      ISIC_0052212  IP_2842074  female        50.0   \n3      ISIC_0068279  IP_6890425  female        45.0   \n4      ISIC_0074268  IP_8723313  female        55.0   \n...             ...         ...     ...         ...   \n33121  ISIC_9999134  IP_6526534    male        50.0   \n33122  ISIC_9999320  IP_3650745    male        65.0   \n33123  ISIC_9999515  IP_2026598    male        20.0   \n33124  ISIC_9999666  IP_7702038    male        50.0   \n33125  ISIC_9999806  IP_0046310    male        45.0   \n\n      anatom_site_general_challenge diagnosis benign_malignant  target  \n0                         head/neck   unknown           benign       0  \n1                   upper extremity   unknown           benign       0  \n2                   lower extremity     nevus           benign       0  \n3                         head/neck   unknown           benign       0  \n4                   upper extremity   unknown           benign       0  \n...                             ...       ...              ...     ...  \n33121                         torso   unknown           benign       0  \n33122                         torso   unknown           benign       0  \n33123               lower extremity   unknown           benign       0  \n33124               lower extremity   unknown           benign       0  \n33125                         torso     nevus           benign       0  \n\n[33126 rows x 8 columns]",
      "text/html": "<div>\n<style scoped>\n    .dataframe tbody tr th:only-of-type {\n        vertical-align: middle;\n    }\n\n    .dataframe tbody tr th {\n        vertical-align: top;\n    }\n\n    .dataframe thead th {\n        text-align: right;\n    }\n</style>\n<table border=\"1\" class=\"dataframe\">\n  <thead>\n    <tr style=\"text-align: right;\">\n      <th></th>\n      <th>image_name</th>\n      <th>patient_id</th>\n      <th>sex</th>\n      <th>age_approx</th>\n      <th>anatom_site_general_challenge</th>\n      <th>diagnosis</th>\n      <th>benign_malignant</th>\n      <th>target</th>\n    </tr>\n  </thead>\n  <tbody>\n    <tr>\n      <th>0</th>\n      <td>ISIC_2637011</td>\n      <td>IP_7279968</td>\n      <td>male</td>\n      <td>45.0</td>\n      <td>head/neck</td>\n      <td>unknown</td>\n      <td>benign</td>\n      <td>0</td>\n    </tr>\n    <tr>\n      <th>1</th>\n      <td>ISIC_0015719</td>\n      <td>IP_3075186</td>\n      <td>female</td>\n      <td>45.0</td>\n      <td>upper extremity</td>\n      <td>unknown</td>\n      <td>benign</td>\n      <td>0</td>\n    </tr>\n    <tr>\n      <th>2</th>\n      <td>ISIC_0052212</td>\n      <td>IP_2842074</td>\n      <td>female</td>\n      <td>50.0</td>\n      <td>lower extremity</td>\n      <td>nevus</td>\n      <td>benign</td>\n      <td>0</td>\n    </tr>\n    <tr>\n      <th>3</th>\n      <td>ISIC_0068279</td>\n      <td>IP_6890425</td>\n      <td>female</td>\n      <td>45.0</td>\n      <td>head/neck</td>\n      <td>unknown</td>\n      <td>benign</td>\n      <td>0</td>\n    </tr>\n    <tr>\n      <th>4</th>\n      <td>ISIC_0074268</td>\n      <td>IP_8723313</td>\n      <td>female</td>\n      <td>55.0</td>\n      <td>upper extremity</td>\n      <td>unknown</td>\n      <td>benign</td>\n      <td>0</td>\n    </tr>\n    <tr>\n      <th>...</th>\n      <td>...</td>\n      <td>...</td>\n      <td>...</td>\n      <td>...</td>\n      <td>...</td>\n      <td>...</td>\n      <td>...</td>\n      <td>...</td>\n    </tr>\n    <tr>\n      <th>33121</th>\n      <td>ISIC_9999134</td>\n      <td>IP_6526534</td>\n      <td>male</td>\n      <td>50.0</td>\n      <td>torso</td>\n      <td>unknown</td>\n      <td>benign</td>\n      <td>0</td>\n    </tr>\n    <tr>\n      <th>33122</th>\n      <td>ISIC_9999320</td>\n      <td>IP_3650745</td>\n      <td>male</td>\n      <td>65.0</td>\n      <td>torso</td>\n      <td>unknown</td>\n      <td>benign</td>\n      <td>0</td>\n    </tr>\n    <tr>\n      <th>33123</th>\n      <td>ISIC_9999515</td>\n      <td>IP_2026598</td>\n      <td>male</td>\n      <td>20.0</td>\n      <td>lower extremity</td>\n      <td>unknown</td>\n      <td>benign</td>\n      <td>0</td>\n    </tr>\n    <tr>\n      <th>33124</th>\n      <td>ISIC_9999666</td>\n      <td>IP_7702038</td>\n      <td>male</td>\n      <td>50.0</td>\n      <td>lower extremity</td>\n      <td>unknown</td>\n      <td>benign</td>\n      <td>0</td>\n    </tr>\n    <tr>\n      <th>33125</th>\n      <td>ISIC_9999806</td>\n      <td>IP_0046310</td>\n      <td>male</td>\n      <td>45.0</td>\n      <td>torso</td>\n      <td>nevus</td>\n      <td>benign</td>\n      <td>0</td>\n    </tr>\n  </tbody>\n</table>\n<p>33126 rows × 8 columns</p>\n</div>"
     },
     "metadata": {},
     "execution_count": 83
    }
   ],
   "source": [
    "train_data"
   ]
  },
  {
   "cell_type": "code",
   "execution_count": 72,
   "metadata": {},
   "outputs": [
    {
     "output_type": "execute_result",
     "data": {
      "text/plain": "         image_name  patient_id  sex  age_approx  head/neck  lower extremity  \\\n0      ISIC_2637011  IP_7279968    1       -0.27          1                0   \n1      ISIC_0015719  IP_3075186    0       -0.27          0                0   \n2      ISIC_0052212  IP_2842074    0        0.08          0                1   \n3      ISIC_0068279  IP_6890425    0       -0.27          1                0   \n4      ISIC_0074268  IP_8723313    0        0.43          0                0   \n...             ...         ...  ...         ...        ...              ...   \n33121  ISIC_9999134  IP_6526534    1        0.08          0                0   \n33122  ISIC_9999320  IP_3650745    1        1.12          0                0   \n33123  ISIC_9999515  IP_2026598    1       -2.01          0                1   \n33124  ISIC_9999666  IP_7702038    1        0.08          0                1   \n33125  ISIC_9999806  IP_0046310    1       -0.27          0                0   \n\n       oral/genital  palms/soles  torso  upper extremity  benign_malignant  \\\n0                 0            0      0                0                 0   \n1                 0            0      0                1                 0   \n2                 0            0      0                0                 0   \n3                 0            0      0                0                 0   \n4                 0            0      0                1                 0   \n...             ...          ...    ...              ...               ...   \n33121             0            0      1                0                 0   \n33122             0            0      1                0                 0   \n33123             0            0      0                0                 0   \n33124             0            0      0                0                 0   \n33125             0            0      1                0                 0   \n\n       target  \n0           0  \n1           0  \n2           0  \n3           0  \n4           0  \n...       ...  \n33121       0  \n33122       0  \n33123       0  \n33124       0  \n33125       0  \n\n[33126 rows x 12 columns]",
      "text/html": "<div>\n<style scoped>\n    .dataframe tbody tr th:only-of-type {\n        vertical-align: middle;\n    }\n\n    .dataframe tbody tr th {\n        vertical-align: top;\n    }\n\n    .dataframe thead th {\n        text-align: right;\n    }\n</style>\n<table border=\"1\" class=\"dataframe\">\n  <thead>\n    <tr style=\"text-align: right;\">\n      <th></th>\n      <th>image_name</th>\n      <th>patient_id</th>\n      <th>sex</th>\n      <th>age_approx</th>\n      <th>head/neck</th>\n      <th>lower extremity</th>\n      <th>oral/genital</th>\n      <th>palms/soles</th>\n      <th>torso</th>\n      <th>upper extremity</th>\n      <th>benign_malignant</th>\n      <th>target</th>\n    </tr>\n  </thead>\n  <tbody>\n    <tr>\n      <th>0</th>\n      <td>ISIC_2637011</td>\n      <td>IP_7279968</td>\n      <td>1</td>\n      <td>-0.27</td>\n      <td>1</td>\n      <td>0</td>\n      <td>0</td>\n      <td>0</td>\n      <td>0</td>\n      <td>0</td>\n      <td>0</td>\n      <td>0</td>\n    </tr>\n    <tr>\n      <th>1</th>\n      <td>ISIC_0015719</td>\n      <td>IP_3075186</td>\n      <td>0</td>\n      <td>-0.27</td>\n      <td>0</td>\n      <td>0</td>\n      <td>0</td>\n      <td>0</td>\n      <td>0</td>\n      <td>1</td>\n      <td>0</td>\n      <td>0</td>\n    </tr>\n    <tr>\n      <th>2</th>\n      <td>ISIC_0052212</td>\n      <td>IP_2842074</td>\n      <td>0</td>\n      <td>0.08</td>\n      <td>0</td>\n      <td>1</td>\n      <td>0</td>\n      <td>0</td>\n      <td>0</td>\n      <td>0</td>\n      <td>0</td>\n      <td>0</td>\n    </tr>\n    <tr>\n      <th>3</th>\n      <td>ISIC_0068279</td>\n      <td>IP_6890425</td>\n      <td>0</td>\n      <td>-0.27</td>\n      <td>1</td>\n      <td>0</td>\n      <td>0</td>\n      <td>0</td>\n      <td>0</td>\n      <td>0</td>\n      <td>0</td>\n      <td>0</td>\n    </tr>\n    <tr>\n      <th>4</th>\n      <td>ISIC_0074268</td>\n      <td>IP_8723313</td>\n      <td>0</td>\n      <td>0.43</td>\n      <td>0</td>\n      <td>0</td>\n      <td>0</td>\n      <td>0</td>\n      <td>0</td>\n      <td>1</td>\n      <td>0</td>\n      <td>0</td>\n    </tr>\n    <tr>\n      <th>...</th>\n      <td>...</td>\n      <td>...</td>\n      <td>...</td>\n      <td>...</td>\n      <td>...</td>\n      <td>...</td>\n      <td>...</td>\n      <td>...</td>\n      <td>...</td>\n      <td>...</td>\n      <td>...</td>\n      <td>...</td>\n    </tr>\n    <tr>\n      <th>33121</th>\n      <td>ISIC_9999134</td>\n      <td>IP_6526534</td>\n      <td>1</td>\n      <td>0.08</td>\n      <td>0</td>\n      <td>0</td>\n      <td>0</td>\n      <td>0</td>\n      <td>1</td>\n      <td>0</td>\n      <td>0</td>\n      <td>0</td>\n    </tr>\n    <tr>\n      <th>33122</th>\n      <td>ISIC_9999320</td>\n      <td>IP_3650745</td>\n      <td>1</td>\n      <td>1.12</td>\n      <td>0</td>\n      <td>0</td>\n      <td>0</td>\n      <td>0</td>\n      <td>1</td>\n      <td>0</td>\n      <td>0</td>\n      <td>0</td>\n    </tr>\n    <tr>\n      <th>33123</th>\n      <td>ISIC_9999515</td>\n      <td>IP_2026598</td>\n      <td>1</td>\n      <td>-2.01</td>\n      <td>0</td>\n      <td>1</td>\n      <td>0</td>\n      <td>0</td>\n      <td>0</td>\n      <td>0</td>\n      <td>0</td>\n      <td>0</td>\n    </tr>\n    <tr>\n      <th>33124</th>\n      <td>ISIC_9999666</td>\n      <td>IP_7702038</td>\n      <td>1</td>\n      <td>0.08</td>\n      <td>0</td>\n      <td>1</td>\n      <td>0</td>\n      <td>0</td>\n      <td>0</td>\n      <td>0</td>\n      <td>0</td>\n      <td>0</td>\n    </tr>\n    <tr>\n      <th>33125</th>\n      <td>ISIC_9999806</td>\n      <td>IP_0046310</td>\n      <td>1</td>\n      <td>-0.27</td>\n      <td>0</td>\n      <td>0</td>\n      <td>0</td>\n      <td>0</td>\n      <td>1</td>\n      <td>0</td>\n      <td>0</td>\n      <td>0</td>\n    </tr>\n  </tbody>\n</table>\n<p>33126 rows × 12 columns</p>\n</div>"
     },
     "metadata": {},
     "execution_count": 72
    }
   ],
   "source": [
    "train_analysed"
   ]
  },
  {
   "cell_type": "code",
   "execution_count": 26,
   "metadata": {},
   "outputs": [
    {
     "output_type": "execute_result",
     "data": {
      "text/plain": "         image_name  patient_id     sex  age_approx  \\\n0      ISIC_0052060  IP_3579794    male        70.0   \n1      ISIC_0052349  IP_7782715    male        40.0   \n2      ISIC_0058510  IP_7960270  female        55.0   \n3      ISIC_0073313  IP_6375035  female        50.0   \n4      ISIC_0073502  IP_0589375  female        45.0   \n...             ...         ...     ...         ...   \n10977  ISIC_9992485  IP_4152479    male        40.0   \n10978  ISIC_9996992  IP_4890115    male        35.0   \n10979  ISIC_9997917  IP_2852390    male        25.0   \n10980  ISIC_9998234  IP_8861963    male        65.0   \n10981  ISIC_9999302  IP_6214039    male        30.0   \n\n      anatom_site_general_challenge  \n0                               NaN  \n1                   lower extremity  \n2                             torso  \n3                             torso  \n4                   lower extremity  \n...                             ...  \n10977                         torso  \n10978                         torso  \n10979               upper extremity  \n10980               lower extremity  \n10981               upper extremity  \n\n[10982 rows x 5 columns]",
      "text/html": "<div>\n<style scoped>\n    .dataframe tbody tr th:only-of-type {\n        vertical-align: middle;\n    }\n\n    .dataframe tbody tr th {\n        vertical-align: top;\n    }\n\n    .dataframe thead th {\n        text-align: right;\n    }\n</style>\n<table border=\"1\" class=\"dataframe\">\n  <thead>\n    <tr style=\"text-align: right;\">\n      <th></th>\n      <th>image_name</th>\n      <th>patient_id</th>\n      <th>sex</th>\n      <th>age_approx</th>\n      <th>anatom_site_general_challenge</th>\n    </tr>\n  </thead>\n  <tbody>\n    <tr>\n      <th>0</th>\n      <td>ISIC_0052060</td>\n      <td>IP_3579794</td>\n      <td>male</td>\n      <td>70.0</td>\n      <td>NaN</td>\n    </tr>\n    <tr>\n      <th>1</th>\n      <td>ISIC_0052349</td>\n      <td>IP_7782715</td>\n      <td>male</td>\n      <td>40.0</td>\n      <td>lower extremity</td>\n    </tr>\n    <tr>\n      <th>2</th>\n      <td>ISIC_0058510</td>\n      <td>IP_7960270</td>\n      <td>female</td>\n      <td>55.0</td>\n      <td>torso</td>\n    </tr>\n    <tr>\n      <th>3</th>\n      <td>ISIC_0073313</td>\n      <td>IP_6375035</td>\n      <td>female</td>\n      <td>50.0</td>\n      <td>torso</td>\n    </tr>\n    <tr>\n      <th>4</th>\n      <td>ISIC_0073502</td>\n      <td>IP_0589375</td>\n      <td>female</td>\n      <td>45.0</td>\n      <td>lower extremity</td>\n    </tr>\n    <tr>\n      <th>...</th>\n      <td>...</td>\n      <td>...</td>\n      <td>...</td>\n      <td>...</td>\n      <td>...</td>\n    </tr>\n    <tr>\n      <th>10977</th>\n      <td>ISIC_9992485</td>\n      <td>IP_4152479</td>\n      <td>male</td>\n      <td>40.0</td>\n      <td>torso</td>\n    </tr>\n    <tr>\n      <th>10978</th>\n      <td>ISIC_9996992</td>\n      <td>IP_4890115</td>\n      <td>male</td>\n      <td>35.0</td>\n      <td>torso</td>\n    </tr>\n    <tr>\n      <th>10979</th>\n      <td>ISIC_9997917</td>\n      <td>IP_2852390</td>\n      <td>male</td>\n      <td>25.0</td>\n      <td>upper extremity</td>\n    </tr>\n    <tr>\n      <th>10980</th>\n      <td>ISIC_9998234</td>\n      <td>IP_8861963</td>\n      <td>male</td>\n      <td>65.0</td>\n      <td>lower extremity</td>\n    </tr>\n    <tr>\n      <th>10981</th>\n      <td>ISIC_9999302</td>\n      <td>IP_6214039</td>\n      <td>male</td>\n      <td>30.0</td>\n      <td>upper extremity</td>\n    </tr>\n  </tbody>\n</table>\n<p>10982 rows × 5 columns</p>\n</div>"
     },
     "metadata": {},
     "execution_count": 26
    }
   ],
   "source": [
    "test_data"
   ]
  },
  {
   "cell_type": "code",
   "execution_count": 9,
   "metadata": {},
   "outputs": [],
   "source": [
    "test_analysed = test_data.copy()"
   ]
  },
  {
   "cell_type": "code",
   "execution_count": 43,
   "metadata": {},
   "outputs": [
    {
     "output_type": "execute_result",
     "data": {
      "text/plain": "(array([   38,   384,   750,   829,  1687,  3189,  3615,  3868,  4043,\n         4718,  4859,  6212,  6856,  6884,  7456,  8091,  8123,  8163,\n         8762,  8957,  8963,  9329,  9501, 10121, 10432, 10867, 10948,\n        11963, 12052, 12151, 13092, 13394, 13701, 14829, 14895, 14986,\n        17408, 17521, 18101, 18968, 19316, 19924, 22425, 22537, 23509,\n        23849, 24246, 24463, 24826, 25163, 25511, 26776, 27145, 27186,\n        28071, 28098, 28184, 28335, 29005, 29780, 30224, 31338, 31451,\n        32142, 32610], dtype=int64),)"
     },
     "metadata": {},
     "execution_count": 43
    }
   ],
   "source": [
    "np.where(train_data['sex']==-1)"
   ]
  },
  {
   "cell_type": "code",
   "execution_count": 90,
   "metadata": {},
   "outputs": [
    {
     "output_type": "execute_result",
     "data": {
      "text/plain": "-1.0"
     },
     "metadata": {},
     "execution_count": 90
    }
   ],
   "source": [
    "train_data.loc[38,'sex']"
   ]
  },
  {
   "cell_type": "code",
   "execution_count": 84,
   "metadata": {},
   "outputs": [],
   "source": [
    "train_data['sex'] = [int(0) if value=='female' else value for value in train_data['sex'].tolist()]\n",
    "train_data['sex'] = [int(1) if value=='male' else value for value in train_data['sex'].tolist()]\n",
    "train_data['sex'] = [-int(1) if pd.isnull(value) else value for value in train_data['sex'].tolist()]"
   ]
  },
  {
   "cell_type": "code",
   "execution_count": 85,
   "metadata": {},
   "outputs": [],
   "source": [
    "train_data['age_approx']  = [0 if pd.isnull(value) else value for value in train_data['age_approx'].tolist()]"
   ]
  },
  {
   "cell_type": "code",
   "execution_count": 86,
   "metadata": {
    "tags": [
     "outputPrepend"
    ]
   },
   "outputs": [
    {
     "output_type": "stream",
     "name": "stdout",
     "text": "[DEBUG] 33126\nMean : 48.76969751856548\nStd : 14.534666708494838\n"
    }
   ],
   "source": [
    "mean, std = evaluate_mean_n_std([train_data['age_approx'].tolist()])\n",
    "print(f\"Mean : {mean}\")\n",
    "print(f\"Std : {std}\")"
   ]
  },
  {
   "cell_type": "code",
   "execution_count": 87,
   "metadata": {},
   "outputs": [],
   "source": [
    "train_data['age_approx'] = get_standard_score([train_data['age_approx'].tolist()], mean, std)[0]"
   ]
  },
  {
   "cell_type": "code",
   "execution_count": 88,
   "metadata": {},
   "outputs": [
    {
     "output_type": "execute_result",
     "data": {
      "text/plain": "         image_name  patient_id  sex  age_approx  \\\n0      ISIC_2637011  IP_7279968  1.0   -0.259359   \n1      ISIC_0015719  IP_3075186  0.0   -0.259359   \n2      ISIC_0052212  IP_2842074  0.0    0.084646   \n3      ISIC_0068279  IP_6890425  0.0   -0.259359   \n4      ISIC_0074268  IP_8723313  0.0    0.428651   \n...             ...         ...  ...         ...   \n33121  ISIC_9999134  IP_6526534  1.0    0.084646   \n33122  ISIC_9999320  IP_3650745  1.0    1.116661   \n33123  ISIC_9999515  IP_2026598  1.0   -1.979385   \n33124  ISIC_9999666  IP_7702038  1.0    0.084646   \n33125  ISIC_9999806  IP_0046310  1.0   -0.259359   \n\n      anatom_site_general_challenge diagnosis benign_malignant  target  \n0                         head/neck   unknown           benign       0  \n1                   upper extremity   unknown           benign       0  \n2                   lower extremity     nevus           benign       0  \n3                         head/neck   unknown           benign       0  \n4                   upper extremity   unknown           benign       0  \n...                             ...       ...              ...     ...  \n33121                         torso   unknown           benign       0  \n33122                         torso   unknown           benign       0  \n33123               lower extremity   unknown           benign       0  \n33124               lower extremity   unknown           benign       0  \n33125                         torso     nevus           benign       0  \n\n[33126 rows x 8 columns]",
      "text/html": "<div>\n<style scoped>\n    .dataframe tbody tr th:only-of-type {\n        vertical-align: middle;\n    }\n\n    .dataframe tbody tr th {\n        vertical-align: top;\n    }\n\n    .dataframe thead th {\n        text-align: right;\n    }\n</style>\n<table border=\"1\" class=\"dataframe\">\n  <thead>\n    <tr style=\"text-align: right;\">\n      <th></th>\n      <th>image_name</th>\n      <th>patient_id</th>\n      <th>sex</th>\n      <th>age_approx</th>\n      <th>anatom_site_general_challenge</th>\n      <th>diagnosis</th>\n      <th>benign_malignant</th>\n      <th>target</th>\n    </tr>\n  </thead>\n  <tbody>\n    <tr>\n      <th>0</th>\n      <td>ISIC_2637011</td>\n      <td>IP_7279968</td>\n      <td>1.0</td>\n      <td>-0.259359</td>\n      <td>head/neck</td>\n      <td>unknown</td>\n      <td>benign</td>\n      <td>0</td>\n    </tr>\n    <tr>\n      <th>1</th>\n      <td>ISIC_0015719</td>\n      <td>IP_3075186</td>\n      <td>0.0</td>\n      <td>-0.259359</td>\n      <td>upper extremity</td>\n      <td>unknown</td>\n      <td>benign</td>\n      <td>0</td>\n    </tr>\n    <tr>\n      <th>2</th>\n      <td>ISIC_0052212</td>\n      <td>IP_2842074</td>\n      <td>0.0</td>\n      <td>0.084646</td>\n      <td>lower extremity</td>\n      <td>nevus</td>\n      <td>benign</td>\n      <td>0</td>\n    </tr>\n    <tr>\n      <th>3</th>\n      <td>ISIC_0068279</td>\n      <td>IP_6890425</td>\n      <td>0.0</td>\n      <td>-0.259359</td>\n      <td>head/neck</td>\n      <td>unknown</td>\n      <td>benign</td>\n      <td>0</td>\n    </tr>\n    <tr>\n      <th>4</th>\n      <td>ISIC_0074268</td>\n      <td>IP_8723313</td>\n      <td>0.0</td>\n      <td>0.428651</td>\n      <td>upper extremity</td>\n      <td>unknown</td>\n      <td>benign</td>\n      <td>0</td>\n    </tr>\n    <tr>\n      <th>...</th>\n      <td>...</td>\n      <td>...</td>\n      <td>...</td>\n      <td>...</td>\n      <td>...</td>\n      <td>...</td>\n      <td>...</td>\n      <td>...</td>\n    </tr>\n    <tr>\n      <th>33121</th>\n      <td>ISIC_9999134</td>\n      <td>IP_6526534</td>\n      <td>1.0</td>\n      <td>0.084646</td>\n      <td>torso</td>\n      <td>unknown</td>\n      <td>benign</td>\n      <td>0</td>\n    </tr>\n    <tr>\n      <th>33122</th>\n      <td>ISIC_9999320</td>\n      <td>IP_3650745</td>\n      <td>1.0</td>\n      <td>1.116661</td>\n      <td>torso</td>\n      <td>unknown</td>\n      <td>benign</td>\n      <td>0</td>\n    </tr>\n    <tr>\n      <th>33123</th>\n      <td>ISIC_9999515</td>\n      <td>IP_2026598</td>\n      <td>1.0</td>\n      <td>-1.979385</td>\n      <td>lower extremity</td>\n      <td>unknown</td>\n      <td>benign</td>\n      <td>0</td>\n    </tr>\n    <tr>\n      <th>33124</th>\n      <td>ISIC_9999666</td>\n      <td>IP_7702038</td>\n      <td>1.0</td>\n      <td>0.084646</td>\n      <td>lower extremity</td>\n      <td>unknown</td>\n      <td>benign</td>\n      <td>0</td>\n    </tr>\n    <tr>\n      <th>33125</th>\n      <td>ISIC_9999806</td>\n      <td>IP_0046310</td>\n      <td>1.0</td>\n      <td>-0.259359</td>\n      <td>torso</td>\n      <td>nevus</td>\n      <td>benign</td>\n      <td>0</td>\n    </tr>\n  </tbody>\n</table>\n<p>33126 rows × 8 columns</p>\n</div>"
     },
     "metadata": {},
     "execution_count": 88
    }
   ],
   "source": [
    "train_data"
   ]
  },
  {
   "cell_type": "code",
   "execution_count": 124,
   "metadata": {},
   "outputs": [],
   "source": [
    "train_data = pd.read_csv(\"D:\\\\Coding_practice\\\\_Data\\\\SIIM-ISIC_data\\\\train_analysed.csv\")"
   ]
  },
  {
   "cell_type": "code",
   "execution_count": 140,
   "metadata": {},
   "outputs": [],
   "source": [
    "train_data.to_csv(\"D:\\\\Coding_practice\\\\_Data\\\\SIIM-ISIC_data\\\\train_analysed.csv\", index=False)"
   ]
  },
  {
   "cell_type": "code",
   "execution_count": 126,
   "metadata": {},
   "outputs": [
    {
     "output_type": "execute_result",
     "data": {
      "text/plain": "       head/neck  lower extremity  oral/genital  palms/soles  torso  \\\n0              1                0             0            0      0   \n1              0                0             0            0      0   \n2              0                1             0            0      0   \n3              1                0             0            0      0   \n4              0                0             0            0      0   \n...          ...              ...           ...          ...    ...   \n33121          0                0             0            0      1   \n33122          0                0             0            0      1   \n33123          0                1             0            0      0   \n33124          0                1             0            0      0   \n33125          0                0             0            0      1   \n\n       upper extremity  \n0                    0  \n1                    1  \n2                    0  \n3                    0  \n4                    1  \n...                ...  \n33121                0  \n33122                0  \n33123                0  \n33124                0  \n33125                0  \n\n[33126 rows x 6 columns]",
      "text/html": "<div>\n<style scoped>\n    .dataframe tbody tr th:only-of-type {\n        vertical-align: middle;\n    }\n\n    .dataframe tbody tr th {\n        vertical-align: top;\n    }\n\n    .dataframe thead th {\n        text-align: right;\n    }\n</style>\n<table border=\"1\" class=\"dataframe\">\n  <thead>\n    <tr style=\"text-align: right;\">\n      <th></th>\n      <th>head/neck</th>\n      <th>lower extremity</th>\n      <th>oral/genital</th>\n      <th>palms/soles</th>\n      <th>torso</th>\n      <th>upper extremity</th>\n    </tr>\n  </thead>\n  <tbody>\n    <tr>\n      <th>0</th>\n      <td>1</td>\n      <td>0</td>\n      <td>0</td>\n      <td>0</td>\n      <td>0</td>\n      <td>0</td>\n    </tr>\n    <tr>\n      <th>1</th>\n      <td>0</td>\n      <td>0</td>\n      <td>0</td>\n      <td>0</td>\n      <td>0</td>\n      <td>1</td>\n    </tr>\n    <tr>\n      <th>2</th>\n      <td>0</td>\n      <td>1</td>\n      <td>0</td>\n      <td>0</td>\n      <td>0</td>\n      <td>0</td>\n    </tr>\n    <tr>\n      <th>3</th>\n      <td>1</td>\n      <td>0</td>\n      <td>0</td>\n      <td>0</td>\n      <td>0</td>\n      <td>0</td>\n    </tr>\n    <tr>\n      <th>4</th>\n      <td>0</td>\n      <td>0</td>\n      <td>0</td>\n      <td>0</td>\n      <td>0</td>\n      <td>1</td>\n    </tr>\n    <tr>\n      <th>...</th>\n      <td>...</td>\n      <td>...</td>\n      <td>...</td>\n      <td>...</td>\n      <td>...</td>\n      <td>...</td>\n    </tr>\n    <tr>\n      <th>33121</th>\n      <td>0</td>\n      <td>0</td>\n      <td>0</td>\n      <td>0</td>\n      <td>1</td>\n      <td>0</td>\n    </tr>\n    <tr>\n      <th>33122</th>\n      <td>0</td>\n      <td>0</td>\n      <td>0</td>\n      <td>0</td>\n      <td>1</td>\n      <td>0</td>\n    </tr>\n    <tr>\n      <th>33123</th>\n      <td>0</td>\n      <td>1</td>\n      <td>0</td>\n      <td>0</td>\n      <td>0</td>\n      <td>0</td>\n    </tr>\n    <tr>\n      <th>33124</th>\n      <td>0</td>\n      <td>1</td>\n      <td>0</td>\n      <td>0</td>\n      <td>0</td>\n      <td>0</td>\n    </tr>\n    <tr>\n      <th>33125</th>\n      <td>0</td>\n      <td>0</td>\n      <td>0</td>\n      <td>0</td>\n      <td>1</td>\n      <td>0</td>\n    </tr>\n  </tbody>\n</table>\n<p>33126 rows × 6 columns</p>\n</div>"
     },
     "metadata": {},
     "execution_count": 126
    }
   ],
   "source": [
    "onehot_data = pd.get_dummies(train_data['anatom_site_general_challenge'])\n",
    "onehot_data"
   ]
  },
  {
   "cell_type": "code",
   "execution_count": 127,
   "metadata": {},
   "outputs": [],
   "source": [
    "keep_columns = train_data.loc[:,\"benign_malignant\":]\n",
    "\n",
    "keep_columns\n",
    "\n",
    "train_data = train_data.drop(columns=[\"anatom_site_general_challenge\", \"diagnosis\",\"benign_malignant\",\"target\"])"
   ]
  },
  {
   "cell_type": "code",
   "execution_count": 129,
   "metadata": {},
   "outputs": [],
   "source": [
    "train_data = train_data.join(onehot_data)"
   ]
  },
  {
   "cell_type": "code",
   "execution_count": 130,
   "metadata": {},
   "outputs": [],
   "source": [
    "train_data = train_data.join(keep_columns)"
   ]
  },
  {
   "cell_type": "code",
   "execution_count": 139,
   "metadata": {},
   "outputs": [
    {
     "output_type": "execute_result",
     "data": {
      "text/plain": "[0, 1]"
     },
     "metadata": {},
     "execution_count": 139
    }
   ],
   "source": [
    "class_list = np.unique(train_data['benign_malignant']).tolist()\n",
    "class_list"
   ]
  },
  {
   "cell_type": "code",
   "execution_count": 136,
   "metadata": {},
   "outputs": [],
   "source": [
    "train_data['benign_malignant'] = [class_list.index(value) for value in train_data['benign_malignant'].tolist()]"
   ]
  },
  {
   "cell_type": "code",
   "execution_count": 137,
   "metadata": {},
   "outputs": [
    {
     "output_type": "execute_result",
     "data": {
      "text/plain": "         image_name  patient_id  sex  age_approx  head/neck  lower extremity  \\\n0      ISIC_2637011  IP_7279968  1.0   -0.259359          1                0   \n1      ISIC_0015719  IP_3075186  0.0   -0.259359          0                0   \n2      ISIC_0052212  IP_2842074  0.0    0.084646          0                1   \n3      ISIC_0068279  IP_6890425  0.0   -0.259359          1                0   \n4      ISIC_0074268  IP_8723313  0.0    0.428651          0                0   \n...             ...         ...  ...         ...        ...              ...   \n33121  ISIC_9999134  IP_6526534  1.0    0.084646          0                0   \n33122  ISIC_9999320  IP_3650745  1.0    1.116661          0                0   \n33123  ISIC_9999515  IP_2026598  1.0   -1.979385          0                1   \n33124  ISIC_9999666  IP_7702038  1.0    0.084646          0                1   \n33125  ISIC_9999806  IP_0046310  1.0   -0.259359          0                0   \n\n       oral/genital  palms/soles  torso  upper extremity  benign_malignant  \\\n0                 0            0      0                0                 0   \n1                 0            0      0                1                 0   \n2                 0            0      0                0                 0   \n3                 0            0      0                0                 0   \n4                 0            0      0                1                 0   \n...             ...          ...    ...              ...               ...   \n33121             0            0      1                0                 0   \n33122             0            0      1                0                 0   \n33123             0            0      0                0                 0   \n33124             0            0      0                0                 0   \n33125             0            0      1                0                 0   \n\n       target  \n0           0  \n1           0  \n2           0  \n3           0  \n4           0  \n...       ...  \n33121       0  \n33122       0  \n33123       0  \n33124       0  \n33125       0  \n\n[33126 rows x 12 columns]",
      "text/html": "<div>\n<style scoped>\n    .dataframe tbody tr th:only-of-type {\n        vertical-align: middle;\n    }\n\n    .dataframe tbody tr th {\n        vertical-align: top;\n    }\n\n    .dataframe thead th {\n        text-align: right;\n    }\n</style>\n<table border=\"1\" class=\"dataframe\">\n  <thead>\n    <tr style=\"text-align: right;\">\n      <th></th>\n      <th>image_name</th>\n      <th>patient_id</th>\n      <th>sex</th>\n      <th>age_approx</th>\n      <th>head/neck</th>\n      <th>lower extremity</th>\n      <th>oral/genital</th>\n      <th>palms/soles</th>\n      <th>torso</th>\n      <th>upper extremity</th>\n      <th>benign_malignant</th>\n      <th>target</th>\n    </tr>\n  </thead>\n  <tbody>\n    <tr>\n      <th>0</th>\n      <td>ISIC_2637011</td>\n      <td>IP_7279968</td>\n      <td>1.0</td>\n      <td>-0.259359</td>\n      <td>1</td>\n      <td>0</td>\n      <td>0</td>\n      <td>0</td>\n      <td>0</td>\n      <td>0</td>\n      <td>0</td>\n      <td>0</td>\n    </tr>\n    <tr>\n      <th>1</th>\n      <td>ISIC_0015719</td>\n      <td>IP_3075186</td>\n      <td>0.0</td>\n      <td>-0.259359</td>\n      <td>0</td>\n      <td>0</td>\n      <td>0</td>\n      <td>0</td>\n      <td>0</td>\n      <td>1</td>\n      <td>0</td>\n      <td>0</td>\n    </tr>\n    <tr>\n      <th>2</th>\n      <td>ISIC_0052212</td>\n      <td>IP_2842074</td>\n      <td>0.0</td>\n      <td>0.084646</td>\n      <td>0</td>\n      <td>1</td>\n      <td>0</td>\n      <td>0</td>\n      <td>0</td>\n      <td>0</td>\n      <td>0</td>\n      <td>0</td>\n    </tr>\n    <tr>\n      <th>3</th>\n      <td>ISIC_0068279</td>\n      <td>IP_6890425</td>\n      <td>0.0</td>\n      <td>-0.259359</td>\n      <td>1</td>\n      <td>0</td>\n      <td>0</td>\n      <td>0</td>\n      <td>0</td>\n      <td>0</td>\n      <td>0</td>\n      <td>0</td>\n    </tr>\n    <tr>\n      <th>4</th>\n      <td>ISIC_0074268</td>\n      <td>IP_8723313</td>\n      <td>0.0</td>\n      <td>0.428651</td>\n      <td>0</td>\n      <td>0</td>\n      <td>0</td>\n      <td>0</td>\n      <td>0</td>\n      <td>1</td>\n      <td>0</td>\n      <td>0</td>\n    </tr>\n    <tr>\n      <th>...</th>\n      <td>...</td>\n      <td>...</td>\n      <td>...</td>\n      <td>...</td>\n      <td>...</td>\n      <td>...</td>\n      <td>...</td>\n      <td>...</td>\n      <td>...</td>\n      <td>...</td>\n      <td>...</td>\n      <td>...</td>\n    </tr>\n    <tr>\n      <th>33121</th>\n      <td>ISIC_9999134</td>\n      <td>IP_6526534</td>\n      <td>1.0</td>\n      <td>0.084646</td>\n      <td>0</td>\n      <td>0</td>\n      <td>0</td>\n      <td>0</td>\n      <td>1</td>\n      <td>0</td>\n      <td>0</td>\n      <td>0</td>\n    </tr>\n    <tr>\n      <th>33122</th>\n      <td>ISIC_9999320</td>\n      <td>IP_3650745</td>\n      <td>1.0</td>\n      <td>1.116661</td>\n      <td>0</td>\n      <td>0</td>\n      <td>0</td>\n      <td>0</td>\n      <td>1</td>\n      <td>0</td>\n      <td>0</td>\n      <td>0</td>\n    </tr>\n    <tr>\n      <th>33123</th>\n      <td>ISIC_9999515</td>\n      <td>IP_2026598</td>\n      <td>1.0</td>\n      <td>-1.979385</td>\n      <td>0</td>\n      <td>1</td>\n      <td>0</td>\n      <td>0</td>\n      <td>0</td>\n      <td>0</td>\n      <td>0</td>\n      <td>0</td>\n    </tr>\n    <tr>\n      <th>33124</th>\n      <td>ISIC_9999666</td>\n      <td>IP_7702038</td>\n      <td>1.0</td>\n      <td>0.084646</td>\n      <td>0</td>\n      <td>1</td>\n      <td>0</td>\n      <td>0</td>\n      <td>0</td>\n      <td>0</td>\n      <td>0</td>\n      <td>0</td>\n    </tr>\n    <tr>\n      <th>33125</th>\n      <td>ISIC_9999806</td>\n      <td>IP_0046310</td>\n      <td>1.0</td>\n      <td>-0.259359</td>\n      <td>0</td>\n      <td>0</td>\n      <td>0</td>\n      <td>0</td>\n      <td>1</td>\n      <td>0</td>\n      <td>0</td>\n      <td>0</td>\n    </tr>\n  </tbody>\n</table>\n<p>33126 rows × 12 columns</p>\n</div>"
     },
     "metadata": {},
     "execution_count": 137
    }
   ],
   "source": [
    "train_data"
   ]
  },
  {
   "cell_type": "code",
   "execution_count": 148,
   "metadata": {},
   "outputs": [
    {
     "output_type": "execute_result",
     "data": {
      "text/plain": "         image_name  patient_id  sex  age_approx  head/neck  lower extremity  \\\n0      ISIC_0052060  IP_3579794    1    1.460667          0                0   \n1      ISIC_0052349  IP_7782715    1   -0.603364          0                1   \n2      ISIC_0058510  IP_7960270    0    0.428651          0                0   \n3      ISIC_0073313  IP_6375035    0    0.084646          0                0   \n4      ISIC_0073502  IP_0589375    0   -0.259359          0                1   \n...             ...         ...  ...         ...        ...              ...   \n10977  ISIC_9992485  IP_4152479    1   -0.603364          0                0   \n10978  ISIC_9996992  IP_4890115    1   -0.947369          0                0   \n10979  ISIC_9997917  IP_2852390    1   -1.635380          0                0   \n10980  ISIC_9998234  IP_8861963    1    1.116661          0                1   \n10981  ISIC_9999302  IP_6214039    1   -1.291374          0                0   \n\n       oral/genital  palms/soles  torso  upper extremity  \n0                 0            0      0                0  \n1                 0            0      0                0  \n2                 0            0      1                0  \n3                 0            0      1                0  \n4                 0            0      0                0  \n...             ...          ...    ...              ...  \n10977             0            0      1                0  \n10978             0            0      1                0  \n10979             0            0      0                1  \n10980             0            0      0                0  \n10981             0            0      0                1  \n\n[10982 rows x 10 columns]",
      "text/html": "<div>\n<style scoped>\n    .dataframe tbody tr th:only-of-type {\n        vertical-align: middle;\n    }\n\n    .dataframe tbody tr th {\n        vertical-align: top;\n    }\n\n    .dataframe thead th {\n        text-align: right;\n    }\n</style>\n<table border=\"1\" class=\"dataframe\">\n  <thead>\n    <tr style=\"text-align: right;\">\n      <th></th>\n      <th>image_name</th>\n      <th>patient_id</th>\n      <th>sex</th>\n      <th>age_approx</th>\n      <th>head/neck</th>\n      <th>lower extremity</th>\n      <th>oral/genital</th>\n      <th>palms/soles</th>\n      <th>torso</th>\n      <th>upper extremity</th>\n    </tr>\n  </thead>\n  <tbody>\n    <tr>\n      <th>0</th>\n      <td>ISIC_0052060</td>\n      <td>IP_3579794</td>\n      <td>1</td>\n      <td>1.460667</td>\n      <td>0</td>\n      <td>0</td>\n      <td>0</td>\n      <td>0</td>\n      <td>0</td>\n      <td>0</td>\n    </tr>\n    <tr>\n      <th>1</th>\n      <td>ISIC_0052349</td>\n      <td>IP_7782715</td>\n      <td>1</td>\n      <td>-0.603364</td>\n      <td>0</td>\n      <td>1</td>\n      <td>0</td>\n      <td>0</td>\n      <td>0</td>\n      <td>0</td>\n    </tr>\n    <tr>\n      <th>2</th>\n      <td>ISIC_0058510</td>\n      <td>IP_7960270</td>\n      <td>0</td>\n      <td>0.428651</td>\n      <td>0</td>\n      <td>0</td>\n      <td>0</td>\n      <td>0</td>\n      <td>1</td>\n      <td>0</td>\n    </tr>\n    <tr>\n      <th>3</th>\n      <td>ISIC_0073313</td>\n      <td>IP_6375035</td>\n      <td>0</td>\n      <td>0.084646</td>\n      <td>0</td>\n      <td>0</td>\n      <td>0</td>\n      <td>0</td>\n      <td>1</td>\n      <td>0</td>\n    </tr>\n    <tr>\n      <th>4</th>\n      <td>ISIC_0073502</td>\n      <td>IP_0589375</td>\n      <td>0</td>\n      <td>-0.259359</td>\n      <td>0</td>\n      <td>1</td>\n      <td>0</td>\n      <td>0</td>\n      <td>0</td>\n      <td>0</td>\n    </tr>\n    <tr>\n      <th>...</th>\n      <td>...</td>\n      <td>...</td>\n      <td>...</td>\n      <td>...</td>\n      <td>...</td>\n      <td>...</td>\n      <td>...</td>\n      <td>...</td>\n      <td>...</td>\n      <td>...</td>\n    </tr>\n    <tr>\n      <th>10977</th>\n      <td>ISIC_9992485</td>\n      <td>IP_4152479</td>\n      <td>1</td>\n      <td>-0.603364</td>\n      <td>0</td>\n      <td>0</td>\n      <td>0</td>\n      <td>0</td>\n      <td>1</td>\n      <td>0</td>\n    </tr>\n    <tr>\n      <th>10978</th>\n      <td>ISIC_9996992</td>\n      <td>IP_4890115</td>\n      <td>1</td>\n      <td>-0.947369</td>\n      <td>0</td>\n      <td>0</td>\n      <td>0</td>\n      <td>0</td>\n      <td>1</td>\n      <td>0</td>\n    </tr>\n    <tr>\n      <th>10979</th>\n      <td>ISIC_9997917</td>\n      <td>IP_2852390</td>\n      <td>1</td>\n      <td>-1.635380</td>\n      <td>0</td>\n      <td>0</td>\n      <td>0</td>\n      <td>0</td>\n      <td>0</td>\n      <td>1</td>\n    </tr>\n    <tr>\n      <th>10980</th>\n      <td>ISIC_9998234</td>\n      <td>IP_8861963</td>\n      <td>1</td>\n      <td>1.116661</td>\n      <td>0</td>\n      <td>1</td>\n      <td>0</td>\n      <td>0</td>\n      <td>0</td>\n      <td>0</td>\n    </tr>\n    <tr>\n      <th>10981</th>\n      <td>ISIC_9999302</td>\n      <td>IP_6214039</td>\n      <td>1</td>\n      <td>-1.291374</td>\n      <td>0</td>\n      <td>0</td>\n      <td>0</td>\n      <td>0</td>\n      <td>0</td>\n      <td>1</td>\n    </tr>\n  </tbody>\n</table>\n<p>10982 rows × 10 columns</p>\n</div>"
     },
     "metadata": {},
     "execution_count": 148
    }
   ],
   "source": [
    "test_data"
   ]
  },
  {
   "cell_type": "code",
   "execution_count": 142,
   "metadata": {},
   "outputs": [],
   "source": [
    "test_data['sex'] = [int(0) if value=='female' else value for value in test_data['sex'].tolist()]\n",
    "test_data['sex'] = [int(1) if value=='male' else value for value in test_data['sex'].tolist()]\n",
    "test_data['sex'] = [-int(1) if pd.isnull(value) else value for value in test_data['sex'].tolist()]\n",
    "\n",
    "test_data['age_approx']  = [0 if pd.isnull(value) else value for value in test_data['age_approx'].tolist()]"
   ]
  },
  {
   "cell_type": "code",
   "execution_count": 144,
   "metadata": {},
   "outputs": [],
   "source": [
    "test_data['age_approx'] = get_standard_score([test_data['age_approx'].tolist()], mean, std)[0]"
   ]
  },
  {
   "cell_type": "code",
   "execution_count": 146,
   "metadata": {},
   "outputs": [],
   "source": [
    "onehot_data = pd.get_dummies(test_data['anatom_site_general_challenge'])\n",
    "onehot_data\n",
    "test_data = test_data.drop(columns=[\"anatom_site_general_challenge\"])"
   ]
  },
  {
   "cell_type": "code",
   "execution_count": 147,
   "metadata": {},
   "outputs": [],
   "source": [
    "test_data = test_data.join(onehot_data)"
   ]
  },
  {
   "cell_type": "code",
   "execution_count": 150,
   "metadata": {},
   "outputs": [],
   "source": [
    "test_data.to_csv(\"D:\\\\Coding_practice\\\\_Data\\\\SIIM-ISIC_data\\\\test_analysed.csv\", index=False)"
   ]
  },
  {
   "cell_type": "code",
   "execution_count": 151,
   "metadata": {},
   "outputs": [
    {
     "output_type": "execute_result",
     "data": {
      "text/plain": "         image_name  patient_id  sex  age_approx  head/neck  lower extremity  \\\n0      ISIC_0052060  IP_3579794    1    1.460667          0                0   \n1      ISIC_0052349  IP_7782715    1   -0.603364          0                1   \n2      ISIC_0058510  IP_7960270    0    0.428651          0                0   \n3      ISIC_0073313  IP_6375035    0    0.084646          0                0   \n4      ISIC_0073502  IP_0589375    0   -0.259359          0                1   \n...             ...         ...  ...         ...        ...              ...   \n10977  ISIC_9992485  IP_4152479    1   -0.603364          0                0   \n10978  ISIC_9996992  IP_4890115    1   -0.947369          0                0   \n10979  ISIC_9997917  IP_2852390    1   -1.635380          0                0   \n10980  ISIC_9998234  IP_8861963    1    1.116661          0                1   \n10981  ISIC_9999302  IP_6214039    1   -1.291374          0                0   \n\n       oral/genital  palms/soles  torso  upper extremity  \n0                 0            0      0                0  \n1                 0            0      0                0  \n2                 0            0      1                0  \n3                 0            0      1                0  \n4                 0            0      0                0  \n...             ...          ...    ...              ...  \n10977             0            0      1                0  \n10978             0            0      1                0  \n10979             0            0      0                1  \n10980             0            0      0                0  \n10981             0            0      0                1  \n\n[10982 rows x 10 columns]",
      "text/html": "<div>\n<style scoped>\n    .dataframe tbody tr th:only-of-type {\n        vertical-align: middle;\n    }\n\n    .dataframe tbody tr th {\n        vertical-align: top;\n    }\n\n    .dataframe thead th {\n        text-align: right;\n    }\n</style>\n<table border=\"1\" class=\"dataframe\">\n  <thead>\n    <tr style=\"text-align: right;\">\n      <th></th>\n      <th>image_name</th>\n      <th>patient_id</th>\n      <th>sex</th>\n      <th>age_approx</th>\n      <th>head/neck</th>\n      <th>lower extremity</th>\n      <th>oral/genital</th>\n      <th>palms/soles</th>\n      <th>torso</th>\n      <th>upper extremity</th>\n    </tr>\n  </thead>\n  <tbody>\n    <tr>\n      <th>0</th>\n      <td>ISIC_0052060</td>\n      <td>IP_3579794</td>\n      <td>1</td>\n      <td>1.460667</td>\n      <td>0</td>\n      <td>0</td>\n      <td>0</td>\n      <td>0</td>\n      <td>0</td>\n      <td>0</td>\n    </tr>\n    <tr>\n      <th>1</th>\n      <td>ISIC_0052349</td>\n      <td>IP_7782715</td>\n      <td>1</td>\n      <td>-0.603364</td>\n      <td>0</td>\n      <td>1</td>\n      <td>0</td>\n      <td>0</td>\n      <td>0</td>\n      <td>0</td>\n    </tr>\n    <tr>\n      <th>2</th>\n      <td>ISIC_0058510</td>\n      <td>IP_7960270</td>\n      <td>0</td>\n      <td>0.428651</td>\n      <td>0</td>\n      <td>0</td>\n      <td>0</td>\n      <td>0</td>\n      <td>1</td>\n      <td>0</td>\n    </tr>\n    <tr>\n      <th>3</th>\n      <td>ISIC_0073313</td>\n      <td>IP_6375035</td>\n      <td>0</td>\n      <td>0.084646</td>\n      <td>0</td>\n      <td>0</td>\n      <td>0</td>\n      <td>0</td>\n      <td>1</td>\n      <td>0</td>\n    </tr>\n    <tr>\n      <th>4</th>\n      <td>ISIC_0073502</td>\n      <td>IP_0589375</td>\n      <td>0</td>\n      <td>-0.259359</td>\n      <td>0</td>\n      <td>1</td>\n      <td>0</td>\n      <td>0</td>\n      <td>0</td>\n      <td>0</td>\n    </tr>\n    <tr>\n      <th>...</th>\n      <td>...</td>\n      <td>...</td>\n      <td>...</td>\n      <td>...</td>\n      <td>...</td>\n      <td>...</td>\n      <td>...</td>\n      <td>...</td>\n      <td>...</td>\n      <td>...</td>\n    </tr>\n    <tr>\n      <th>10977</th>\n      <td>ISIC_9992485</td>\n      <td>IP_4152479</td>\n      <td>1</td>\n      <td>-0.603364</td>\n      <td>0</td>\n      <td>0</td>\n      <td>0</td>\n      <td>0</td>\n      <td>1</td>\n      <td>0</td>\n    </tr>\n    <tr>\n      <th>10978</th>\n      <td>ISIC_9996992</td>\n      <td>IP_4890115</td>\n      <td>1</td>\n      <td>-0.947369</td>\n      <td>0</td>\n      <td>0</td>\n      <td>0</td>\n      <td>0</td>\n      <td>1</td>\n      <td>0</td>\n    </tr>\n    <tr>\n      <th>10979</th>\n      <td>ISIC_9997917</td>\n      <td>IP_2852390</td>\n      <td>1</td>\n      <td>-1.635380</td>\n      <td>0</td>\n      <td>0</td>\n      <td>0</td>\n      <td>0</td>\n      <td>0</td>\n      <td>1</td>\n    </tr>\n    <tr>\n      <th>10980</th>\n      <td>ISIC_9998234</td>\n      <td>IP_8861963</td>\n      <td>1</td>\n      <td>1.116661</td>\n      <td>0</td>\n      <td>1</td>\n      <td>0</td>\n      <td>0</td>\n      <td>0</td>\n      <td>0</td>\n    </tr>\n    <tr>\n      <th>10981</th>\n      <td>ISIC_9999302</td>\n      <td>IP_6214039</td>\n      <td>1</td>\n      <td>-1.291374</td>\n      <td>0</td>\n      <td>0</td>\n      <td>0</td>\n      <td>0</td>\n      <td>0</td>\n      <td>1</td>\n    </tr>\n  </tbody>\n</table>\n<p>10982 rows × 10 columns</p>\n</div>"
     },
     "metadata": {},
     "execution_count": 151
    }
   ],
   "source": [
    "test_data"
   ]
  }
 ],
 "metadata": {
  "language_info": {
   "codemirror_mode": {
    "name": "ipython",
    "version": 3
   },
   "file_extension": ".py",
   "mimetype": "text/x-python",
   "name": "python",
   "nbconvert_exporter": "python",
   "pygments_lexer": "ipython3",
   "version": 3
  },
  "orig_nbformat": 2,
  "kernelspec": {
   "name": "python_defaultSpec_1597116674840",
   "display_name": "Python 3.7.0 64-bit ('venv_dl': venv)"
  }
 },
 "nbformat": 4,
 "nbformat_minor": 2
}