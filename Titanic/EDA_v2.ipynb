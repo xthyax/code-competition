{
 "cells": [
  {
   "cell_type": "code",
   "execution_count": null,
   "metadata": {},
   "outputs": [],
   "source": []
  }
 ],
 "metadata": {
  "interpreter": {
   "hash": "cf1d69bb0d2a12e61490889161fcacd2800262e0ab5a40aa691e442a23156cde"
  },
  "kernelspec": {
   "display_name": "Python 3.8.13 ('_work')",
   "language": "python",
   "name": "python3"
  },
  "language_info": {
   "name": "python",
   "version": "3.8.13"
  },
  "orig_nbformat": 4
 },
 "nbformat": 4,
 "nbformat_minor": 2
}
