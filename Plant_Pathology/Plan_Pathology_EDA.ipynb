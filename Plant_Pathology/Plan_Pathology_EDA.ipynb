{
 "cells": [
  {
   "cell_type": "markdown",
   "metadata": {},
   "source": [
    "# Import Lib"
   ]
  },
  {
   "cell_type": "code",
   "execution_count": null,
   "metadata": {},
   "outputs": [],
   "source": [
    "import os\n",
    "import cv2\n",
    "import math\n",
    "import random\n",
    "import pandas as pd \n",
    "import numpy as np\n",
    "from tqdm import tqdm\n",
    "from sklearn import metrics\n",
    "from sklearn.model_selection import train_test_split\n",
    "tqdm.pandas()\n",
    "import matplotlib.pyplot as plt\n",
    "import plotly.express as px\n",
    "import plotly.graph_objects as go\n",
    "import plotly.figure_factory as ff\n",
    "from plotly.subplots import make_subplots"
   ]
  },
  {
   "cell_type": "markdown",
   "metadata": {},
   "source": [
    "# Get data path"
   ]
  },
  {
   "cell_type": "code",
   "execution_count": null,
   "metadata": {},
   "outputs": [],
   "source": [
    "SAMPLE_LEN = 100\n",
    "\n",
    "IMAGE_PATH = \"D:\\\\Coding_practice\\\\plan_pathology_kaggle\\\\images\\\\\"\n",
    "TRAIN_PATH = \"D:\\\\Coding_practice\\\\plan_pathology_kaggle\\\\train.csv\"\n",
    "TEST_PATH =  \"D:\\\\Coding_practice\\\\plan_pathology_kaggle\\\\test.csv\"\n",
    "SUB_PATH = \"D:\\\\Coding_practice\\\\plan_pathology_kaggle\\\\sample_submission.csv\"\n",
    "\n",
    "sub = pd.read_csv(SUB_PATH)\n",
    "train_data = pd.read_csv(TRAIN_PATH)\n",
    "test_data = pd.read_csv(TEST_PATH)"
   ]
  },
  {
   "cell_type": "code",
   "execution_count": null,
   "metadata": {},
   "outputs": [],
   "source": [
    "train_data.head()"
   ]
  },
  {
   "cell_type": "code",
   "execution_count": null,
   "metadata": {},
   "outputs": [],
   "source": [
    "test_data.head()"
   ]
  },
  {
   "cell_type": "code",
   "execution_count": null,
   "metadata": {},
   "outputs": [],
   "source": [
    "def load_image(image_id):\n",
    "    file_path = image_id + \".jpg\"\n",
    "    image = cv2.imread(IMAGE_PATH + file_path)\n",
    "    return cv2.cvtColor(image, cv2.COLOR_BGR2RGB)\n",
    "\n",
    "sample_class = np.where(train_data['healthy']==1)\n",
    "# train_images = train_data['image_id'][list(sample_class)[0][:100]].progress_apply(load_image)\n",
    "train_images = train_data['image_id'][:SAMPLE_LEN].progress_apply(load_image)"
   ]
  },
  {
   "cell_type": "code",
   "execution_count": null,
   "metadata": {},
   "outputs": [],
   "source": [
    "train_images.index\n",
    "# train_images[18]"
   ]
  },
  {
   "cell_type": "markdown",
   "metadata": {},
   "source": [
    "# Visualize one leaf"
   ]
  },
  {
   "cell_type": "code",
   "execution_count": null,
   "metadata": {},
   "outputs": [],
   "source": [
    "fig = px.imshow(cv2.resize(train_images[random.choice(train_images.index)],(205,136)))\n",
    "fig.show()"
   ]
  },
  {
   "cell_type": "markdown",
   "metadata": {},
   "source": [
    "# Channel distribution"
   ]
  },
  {
   "cell_type": "code",
   "execution_count": null,
   "metadata": {},
   "outputs": [],
   "source": [
    "red_values = [np.mean(train_images[idx][:,:,0]) for idx in train_images.index]\n",
    "green_values = [np.mean(train_images[idx][:,:,1]) for idx in train_images.index]\n",
    "blue_values = [np.mean(train_images[idx][:,:,2]) for idx in train_images.index]\n",
    "\n",
    "values = [np.mean(train_images[idx]) for idx in train_images.index]"
   ]
  },
  {
   "cell_type": "markdown",
   "metadata": {},
   "source": [
    "# All channel values"
   ]
  },
  {
   "cell_type": "code",
   "execution_count": null,
   "metadata": {},
   "outputs": [],
   "source": [
    "fig = ff.create_distplot([values], group_labels=[\"Channels\"], colors=[\"purple\"])\n",
    "fig.update_layout(showlegend=False, template=\"simple_white\")\n",
    "fig.update_layout(title_text=\"Distributrion of channel values\")\n",
    "fig.data[0].marker.line.color = 'rgb(0,0,0)'\n",
    "fig.data[0].marker.line.width = 1\n",
    "fig"
   ]
  },
  {
   "cell_type": "code",
   "execution_count": null,
   "metadata": {},
   "outputs": [],
   "source": [
    "fig = ff.create_distplot([red_values], group_labels=[\"R\"], colors=[\"red\"])\n",
    "fig.update_layout(showlegend=False, template=\"simple_white\")\n",
    "fig.update_layout(title_text=\"Distributrion of red channel values\")\n",
    "fig.data[0].marker.line.color = 'rgb(0,0,0)'\n",
    "fig.data[0].marker.line.width = 1\n",
    "fig"
   ]
  },
  {
   "cell_type": "code",
   "execution_count": null,
   "metadata": {},
   "outputs": [],
   "source": [
    "fig = ff.create_distplot([green_values], group_labels=[\"G\"], colors=[\"green\"])\n",
    "fig.update_layout(showlegend=False, template=\"simple_white\")\n",
    "fig.update_layout(title_text=\"Distributrion of green channel values\")\n",
    "fig.data[0].marker.line.color = 'rgb(0,0,0)'\n",
    "fig.data[0].marker.line.width = 1\n",
    "fig"
   ]
  },
  {
   "cell_type": "code",
   "execution_count": null,
   "metadata": {},
   "outputs": [],
   "source": [
    "fig = ff.create_distplot([blue_values], group_labels=[\"B\"], colors=[\"blue\"])\n",
    "fig.update_layout(showlegend=False, template=\"simple_white\")\n",
    "fig.update_layout(title_text=\"Distributrion of blue channel values\")\n",
    "fig.data[0].marker.line.color = 'rgb(0,0,0)'\n",
    "fig.data[0].marker.line.width = 1\n",
    "fig"
   ]
  },
  {
   "cell_type": "code",
   "execution_count": null,
   "metadata": {},
   "outputs": [],
   "source": [
    "fig = go.Figure()\n",
    "\n",
    "for idx, values in enumerate([red_values, green_values, blue_values]):\n",
    "    if idx == 0:\n",
    "        color = \"Red\"\n",
    "    if idx == 1:\n",
    "        color = \"Green\"\n",
    "    if idx == 2:\n",
    "        color = \"Blue\"\n",
    "    fig.add_trace(go.Box(x=[color] * len(values) , y= values, name=color, marker=dict(color=color.lower())))\n",
    "\n",
    "fig.update_layout(yaxis_title=\"Mean value\", xaxis_title=\"Color channel\", title=\"Mean value vs. Color channel\",template=\"plotly_white\")"
   ]
  },
  {
   "cell_type": "code",
   "execution_count": null,
   "metadata": {},
   "outputs": [],
   "source": [
    "fig = ff.create_distplot([red_values, green_values, blue_values], group_labels=[\"R\",\"G\",\"B\"], colors=[\"red\",\"green\",\"blue\"])\n",
    "fig.update_layout(showlegend=False, template=\"simple_white\")\n",
    "fig.update_layout(title_text=\"Distributrion of all channel values\")\n",
    "fig.data[0].marker.line.color = 'rgb(0,0,0)'\n",
    "fig.data[0].marker.line.width = 1\n",
    "fig.data[1].marker.line.color = 'rgb(0,0,0)'\n",
    "fig.data[1].marker.line.width = 1\n",
    "fig.data[2].marker.line.color = 'rgb(0,0,0)'\n",
    "fig.data[2].marker.line.width = 1\n",
    "fig"
   ]
  },
  {
   "cell_type": "markdown",
   "metadata": {},
   "source": [
    "# Visualize sample leaves"
   ]
  },
  {
   "cell_type": "code",
   "execution_count": null,
   "metadata": {},
   "outputs": [],
   "source": [
    "def visualize_leaves(cond=[0, 0, 0, 0], cond_cols=[\"healthy\"], is_cond=True):\n",
    "    if not is_cond:\n",
    "        cols, rows = 3, min([3, len(train_images)//3])\n",
    "        fig, ax = plt.subplots(nrows=rows, ncols=cols, figsize=(30, rows*20/3))\n",
    "        for col in range(cols):\n",
    "            for row in range(rows):\n",
    "                ax[row, col].imshow(train_images.loc[train_images.index[-row*3-col-1]])\n",
    "        return None\n",
    "        \n",
    "    cond_0 = \"healthy == {}\".format(cond[0])\n",
    "    cond_1 = \"scab == {}\".format(cond[1])\n",
    "    cond_2 = \"rust == {}\".format(cond[2])\n",
    "    cond_3 = \"multiple_diseases == {}\".format(cond[3])\n",
    "    \n",
    "    cond_list = []\n",
    "    for col in cond_cols:\n",
    "        if col == \"healthy\":\n",
    "            cond_list.append(cond_0)\n",
    "        if col == \"scab\":\n",
    "            cond_list.append(cond_1)\n",
    "        if col == \"rust\":\n",
    "            cond_list.append(cond_2)\n",
    "        if col == \"multiple_diseases\":\n",
    "            cond_list.append(cond_3)\n",
    "    \n",
    "    data = train_data.loc[:100]\n",
    "    for cond in cond_list:\n",
    "        data = data.query(cond)\n",
    "        \n",
    "    images = train_images.loc[list(data.index)]\n",
    "    cols, rows = 3, min([3, len(images)//3])\n",
    "    \n",
    "    fig, ax = plt.subplots(nrows=rows, ncols=cols, figsize=(30, rows*20/3))\n",
    "    for col in range(cols):\n",
    "        for row in range(rows):\n",
    "            ax[row, col].imshow(images.loc[images.index[row*3+col]])\n",
    "    plt.show()"
   ]
  },
  {
   "cell_type": "code",
   "execution_count": null,
   "metadata": {},
   "outputs": [],
   "source": [
    "visualize_leaves(cond=[0, 1, 0, 0], cond_cols=[\"scab\"])"
   ]
  },
  {
   "cell_type": "code",
   "execution_count": null,
   "metadata": {},
   "outputs": [],
   "source": [
    "fig = px.parallel_categories(train_data[[\"healthy\",\"scab\",\"rust\",\"multiple_diseases\"]], color='healthy', color_continuous_scale=\"sunset\",\\\n",
    "title=\"Parallel categories plot of targets\")\n",
    "fig"
   ]
  },
  {
   "cell_type": "code",
   "execution_count": null,
   "metadata": {},
   "outputs": [],
   "source": [
    "fig = go.Figure([go.Pie(labels=train_data.columns[1:], values=train_data.iloc[:, 1:].sum().values)])\n",
    "\n",
    "fig.update_layout(title_text=\"Pie chart of targets\", template='simple_white')\n",
    "fig.data[0].marker.line.color='rgb(0,0,0)'\n",
    "fig.data[0].marker.line.width=0.5\n",
    "fig.show()"
   ]
  },
  {
   "cell_type": "code",
   "execution_count": null,
   "metadata": {},
   "outputs": [],
   "source": [
    "train_data.columns.values[1:]"
   ]
  },
  {
   "cell_type": "code",
   "execution_count": null,
   "metadata": {},
   "outputs": [],
   "source": [
    "train_data[\"Healthy\"] = train_data[\"healthy\"].apply(bool).apply(str)\n",
    "train_data[\"Multiple_diseases\"] = train_data[\"multiple_diseases\"].apply(bool).apply(str)\n",
    "train_data[\"Rust\"] = train_data['rust'].apply(bool).apply(str)\n",
    "train_data[\"Scrab\"] = train_data['scab'].apply(bool).apply(str)\n",
    "\n",
    "# print(train_data[\"Healthy\"].values)\n",
    "print(np.sum(train_data[\"Healthy\"].values=='True'))\n",
    "# print(sum(np.where(train_data[\"Healthy\"].values=='True')))\n",
    "# df = px.data.tips()\n",
    "# print(df)\n",
    "fig = go.Figure()\n",
    "# fig.add_trace(go.Histogram(x=[\"Healthy\"], y=[train_data[\"Healthy\"].values=='True'], name='count'))\n",
    "fig = px.histogram(train_data, x=\"Rust\", title=\"Data distribution\", color=\"Rust\",\\\n",
    "            color_discrete_map={\n",
    "                \"True\": px.colors.qualitative.Plotly[0],\n",
    "                \"False\": px.colors.qualitative.Plotly[1]})\n",
    "fig.update_layout(template=\"simple_white\")\n",
    "fig.data[0].marker.line.color = 'rgb(0, 0, 0)'\n",
    "fig.data[0].marker.line.width = 0.5\n",
    "fig.data[1].marker.line.color = 'rgb(0, 0, 0)'\n",
    "fig.data[1].marker.line.width = 0.5\n",
    "fig.show()"
   ]
  },
  {
   "cell_type": "code",
   "execution_count": null,
   "metadata": {},
   "outputs": [],
   "source": [
    "def edge_and_cut(img):\n",
    "    emb_img = img.copy()\n",
    "    edges = cv2.Canny(img, 100, 200)\n",
    "    edge_coors = []\n",
    "    for i in range(edges.shape[0]):\n",
    "        for j in range(edges.shape[1]):\n",
    "            if edges[i][j] != 0:\n",
    "                edge_coors.append((i, j))\n",
    "    \n",
    "    row_min = edge_coors[np.argsort([coor[0] for coor in edge_coors])[0]][0]\n",
    "    row_max = edge_coors[np.argsort([coor[0] for coor in edge_coors])[-1]][0]\n",
    "    col_min = edge_coors[np.argsort([coor[1] for coor in edge_coors])[0]][1]\n",
    "    col_max = edge_coors[np.argsort([coor[1] for coor in edge_coors])[-1]][1]\n",
    "    new_img = img[row_min:row_max, col_min:col_max]\n",
    "    \n",
    "    emb_img[row_min-10:row_min+10, col_min:col_max] = [255, 0, 0]\n",
    "    emb_img[row_max-10:row_max+10, col_min:col_max] = [255, 0, 0]\n",
    "    emb_img[row_min:row_max, col_min-10:col_min+10] = [255, 0, 0]\n",
    "    emb_img[row_min:row_max, col_max-10:col_max+10] = [255, 0, 0]\n",
    "    \n",
    "    fig, ax = plt.subplots(nrows=1, ncols=3, figsize=(30, 20))\n",
    "    ax[0].imshow(img, cmap='gray')\n",
    "    ax[0].set_title('Original Image', fontsize=24)\n",
    "    ax[1].imshow(edges, cmap='gray')\n",
    "    ax[1].set_title('Canny Edges', fontsize=24)\n",
    "    ax[2].imshow(emb_img, cmap='gray')\n",
    "    ax[2].set_title('Bounding Box', fontsize=24)\n",
    "    plt.show()"
   ]
  },
  {
   "cell_type": "code",
   "execution_count": null,
   "metadata": {},
   "outputs": [],
   "source": [
    "edge_and_cut(train_images[random.choice(train_images.index)])"
   ]
  },
  {
   "cell_type": "code",
   "execution_count": null,
   "metadata": {},
   "outputs": [],
   "source": [
    "def channels_visualize(img):\n",
    "    process_img = img.copy()\n",
    "    r_channel = process_img[:,:,0]\n",
    "    g_channel = process_img[:,:,1]\n",
    "    b_channel = process_img[:,:,2]\n",
    "    fig, ax = plt.subplots(nrows=1, ncols=4, figsize=(30, 20))\n",
    "    ax[0].imshow(r_channel)\n",
    "    ax[0].set_title('Red channel Image', fontsize=24)\n",
    "    ax[1].imshow(g_channel)\n",
    "    ax[1].set_title('Green channel Image', fontsize=24)\n",
    "    ax[2].imshow(b_channel)\n",
    "    ax[2].set_title('Blue channel Image', fontsize=24)\n",
    "    ax[3].imshow(process_img, cmap='gray')\n",
    "    ax[3].set_title('Original Image', fontsize=24)\n",
    "    plt.show()"
   ]
  },
  {
   "cell_type": "code",
   "execution_count": null,
   "metadata": {},
   "outputs": [],
   "source": [
    "channels_visualize(train_images[random.choice(train_images.index)])"
   ]
  },
  {
   "cell_type": "code",
   "execution_count": null,
   "metadata": {},
   "outputs": [],
   "source": [
    "def conv(img):\n",
    "    fig, ax = plt.subplots(nrows=1, ncols=2, figsize=(20, 20))\n",
    "    kernel = np.ones((7, 7), np.float32)/25\n",
    "    conv = cv2.filter2D(img, -1, kernel)\n",
    "    ax[0].imshow(img)\n",
    "    ax[0].set_title('Original Image', fontsize=24)\n",
    "    ax[1].imshow(conv)\n",
    "    ax[1].set_title('Convolved Image', fontsize=24)\n",
    "    plt.show()"
   ]
  },
  {
   "cell_type": "code",
   "execution_count": null,
   "metadata": {},
   "outputs": [],
   "source": [
    "conv(train_images[random.choice(train_images.index)])"
   ]
  },
  {
   "cell_type": "code",
   "execution_count": null,
   "metadata": {},
   "outputs": [],
   "source": [
    "def blur(img):\n",
    "    fig, ax = plt.subplots(nrows=1, ncols=2, figsize=(20, 20))\n",
    "    ax[0].imshow(img)\n",
    "    ax[0].set_title('Original Image', fontsize=24)\n",
    "    ax[1].imshow(cv2.blur(img, (25, 25)))\n",
    "    ax[1].set_title('Blurred Image', fontsize=24)\n",
    "    plt.show()"
   ]
  },
  {
   "cell_type": "code",
   "execution_count": null,
   "metadata": {},
   "outputs": [],
   "source": [
    "blur(train_images[random.choice(train_images.index)])"
   ]
  }
 ],
 "metadata": {
  "language_info": {
   "name": "python",
   "codemirror_mode": {
    "name": "ipython",
    "version": 3
   },
   "version": "3.7.0-final"
  },
  "orig_nbformat": 2,
  "file_extension": ".py",
  "mimetype": "text/x-python",
  "name": "python",
  "npconvert_exporter": "python",
  "pygments_lexer": "ipython3",
  "version": 3,
  "kernelspec": {
   "name": "python37064bit5a1d938943a948eaba7cedb71c9a2197",
   "display_name": "Python 3.7.0 64-bit"
  }
 },
 "nbformat": 4,
 "nbformat_minor": 2
}